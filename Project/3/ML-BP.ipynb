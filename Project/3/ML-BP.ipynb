{
 "cells": [
  {
   "cell_type": "code",
   "execution_count": 1,
   "metadata": {},
   "outputs": [
    {
     "name": "stderr",
     "output_type": "stream",
     "text": [
      "/Users/avinashk94/anaconda3/lib/python3.6/importlib/_bootstrap.py:205: RuntimeWarning: compiletime version 3.5 of module 'tensorflow.python.framework.fast_tensor_util' does not match runtime version 3.6\n",
      "  return f(*args, **kwds)\n"
     ]
    },
    {
     "name": "stdout",
     "output_type": "stream",
     "text": [
      "Extracting MNIST_data/train-images-idx3-ubyte.gz\n",
      "Extracting MNIST_data/train-labels-idx1-ubyte.gz\n",
      "Extracting MNIST_data/t10k-images-idx3-ubyte.gz\n",
      "Extracting MNIST_data/t10k-labels-idx1-ubyte.gz\n"
     ]
    }
   ],
   "source": [
    "import numpy as np\n",
    "# np.seterr(divide='ignore', invalid='ignore')\n",
    "from tensorflow.examples.tutorials.mnist import input_data\n",
    "mnist = input_data.read_data_sets(\"MNIST_data/\", one_hot=True)"
   ]
  },
  {
   "cell_type": "code",
   "execution_count": 10,
   "metadata": {},
   "outputs": [],
   "source": [
    "trainImages = mnist.train.images.T\n",
    "testImages = mnist.test.images.T\n",
    "trainLabels = mnist.train.labels.T\n",
    "testLabels = mnist.test.labels.T\n",
    "validationImages = mnist.validation.images.T\n",
    "validationLabels = mnist.validation.labels.T\n",
    "(nFeatures,m) = trainImages.shape\n",
    "\n",
    "meanImg = np.mean(trainImages,1)[:,np.newaxis]\n",
    "trainImages -= meanImg\n",
    "testImages -= meanImg\n",
    "validationImages -= meanImg\n",
    "\n",
    "\n",
    "batchSize = 100\n",
    "printEvery = 5\n",
    "nEpochs = 50\n",
    "nClasses = 10\n",
    "learningRate = 0.0001 #IF used....\n",
    "lambdaa = 0.05\n",
    "\n",
    "\n",
    "W = np.random.randn(nClasses,nFeatures)\n",
    "b = np.zeros(nClasses)"
   ]
  },
  {
   "cell_type": "code",
   "execution_count": 11,
   "metadata": {},
   "outputs": [],
   "source": [
    "\n",
    "\n",
    "# z = W.dot(trainImages) + b[:,np.newaxis]\n",
    "# z -= np.max(z)\n",
    "# zExp = np.exp(z)\n",
    "# zExp.shape\n",
    "# print(np.exp(np.max(z)))\n",
    "# print(np.max(zExp))\n",
    "\n",
    "# loss = -np.sum(np.multiply(trainLabels,(z-np.sum(zExp,0))),0)\n",
    "\n",
    "# dz = (zExp/np.sum(zExp,0))-trainLabels\n",
    "# dW = dz.dot(trainImages.T)\n",
    "# db = np.sum(dz,1)\n",
    "# np.max(z).shape\n",
    "\n",
    "# a = zExp/np.sum(zExp,0)\n",
    "# correct = np.sum(np.equal(np.argmax(a,0),np.argmax(trainLabels,0)))\n",
    "# print(np.max(z,0).shape)"
   ]
  },
  {
   "cell_type": "code",
   "execution_count": 12,
   "metadata": {
    "collapsed": true
   },
   "outputs": [],
   "source": [
    "def findOut(x):\n",
    "    z1 = W.dot(x) + b[:,np.newaxis]\n",
    "    z1 -= np.max(z1,0)\n",
    "    zExp = np.exp(z1)\n",
    "    a = zExp/np.sum(zExp,0)\n",
    "    return a"
   ]
  },
  {
   "cell_type": "code",
   "execution_count": 13,
   "metadata": {},
   "outputs": [
    {
     "name": "stdout",
     "output_type": "stream",
     "text": [
      "Loss: 670585.144525 0.1007 0.0939636363636\n",
      "Loss: 297777.25412 0.3205 0.319618181818\n",
      "Loss: 167929.641734 0.5128 0.502745454545\n",
      "Loss: 120349.480674 0.6068 0.587963636364\n",
      "Loss: 94854.4771134 0.6547 0.645709090909\n",
      "Loss: 78770.8007106 0.6943 0.684563636364\n",
      "Loss: 67617.9461762 0.7238 0.714309090909\n",
      "Loss: 59410.446114 0.7465 0.736745454545\n",
      "Loss: 53107.4694937 0.7623 0.755127272727\n",
      "Loss: 48111.2686867 0.7773 0.769909090909\n",
      "Loss: 44056.7446218 0.7901 0.782745454545\n",
      "Loss: 40708.8590194 0.803 0.793436363636\n",
      "Loss: 37908.9726818 0.8126 0.803254545455\n",
      "Loss: 35545.8222258 0.8214 0.811454545455\n",
      "Loss: 33538.4358336 0.8272 0.819272727273\n",
      "Loss: 31825.8827085 0.8335 0.825781818182\n",
      "Loss: 30360.9062743 0.8397 0.832345454545\n",
      "Loss: 29105.8594881 0.8465 0.838781818182\n",
      "Loss: 28030.0354286 0.8536 0.844472727273\n",
      "Loss: 27107.8935445 0.8584 0.849672727273\n",
      "Loss: 26317.8579212 0.8635 0.854454545455\n",
      "Loss: 25641.4892147 0.8665 0.859472727273\n",
      "Loss: 25062.8992104 0.8709 0.863727272727\n",
      "Loss: 24568.3289218 0.8749 0.866945454545\n",
      "Loss: 24145.8358322 0.8777 0.870145454545\n",
      "Loss: 23785.0549508 0.8799 0.873581818182\n",
      "Loss: 23477.0072639 0.883 0.876545454545\n",
      "Loss: 23213.9388357 0.885 0.879218181818\n",
      "Loss: 22989.1789666 0.888 0.881381818182\n",
      "Loss: 22797.0117288 0.89 0.883818181818\n",
      "Loss: 22632.5576017 0.8917 0.885472727273\n",
      "Loss: 22491.6647107 0.8931 0.887690909091\n",
      "Loss: 22370.8093923 0.8946 0.889363636364\n",
      "Loss: 22267.0067116 0.8956 0.8914\n",
      "Loss: 22177.7308001 0.8968 0.892872727273\n",
      "Loss: 22100.8451504 0.8979 0.893709090909\n",
      "Loss: 22034.5421443 0.8989 0.894563636364\n",
      "Loss: 21977.2913591 0.9003 0.895636363636\n",
      "Loss: 21927.7955443 0.9009 0.8964\n",
      "Loss: 21884.9535764 0.9015 0.897090909091\n",
      "Loss: 21847.8292373 0.9015 0.897654545455\n",
      "Loss: 21815.6251737 0.9024 0.898309090909\n",
      "Loss: 21787.6610291 0.9026 0.898690909091\n",
      "Loss: 21763.3552745 0.9027 0.899181818182\n",
      "Loss: 21742.2099273 0.9032 0.899254545455\n",
      "Loss: 21723.7978668 0.9038 0.899363636364\n",
      "Loss: 21707.752109 0.9045 0.899309090909\n",
      "Loss: 21693.7569036 0.9041 0.899636363636\n",
      "Loss: 21681.5401455 0.9048 0.8998\n",
      "Loss: 21670.8670765 0.9046 0.9\n"
     ]
    }
   ],
   "source": [
    "for _ in range(nEpochs):\n",
    "    loss = 0.0\n",
    "    #Forward....\n",
    "    z = W.dot(trainImages) + b[:,np.newaxis]\n",
    "    z -= np.max(z,0)\n",
    "    zExp = np.exp(z)\n",
    "    loss = -np.sum(np.multiply(trainLabels,(z-np.log(np.sum(zExp,0)))),0)\n",
    "    a = zExp/np.sum(zExp,0)\n",
    "#     print(np.equal(np.argmax(findOut(testImages),0),np.argmax(testLabels,0)).shape)\n",
    "    corrert = np.sum(np.equal(np.argmax(findOut(testImages),0),np.argmax(testLabels,0)))/testLabels.shape[1]\n",
    "    corrert2 = np.sum(np.equal(np.argmax(a,0),np.argmax(trainLabels,0)))/m\n",
    "    print('Loss:',np.sum(loss),corrert,corrert2)\n",
    "    \n",
    "    #Backward\n",
    "    dz = (zExp/np.sum(zExp,0))-trainLabels\n",
    "    dW = dz.dot(trainImages.T)\n",
    "    db = np.sum(dz,1)\n",
    "    \n",
    "    W = W - learningRate*dW - lambdaa*W\n",
    "    b = b - learningRate*db"
   ]
  },
  {
   "cell_type": "code",
   "execution_count": null,
   "metadata": {},
   "outputs": [],
   "source": []
  },
  {
   "cell_type": "code",
   "execution_count": null,
   "metadata": {
    "collapsed": true
   },
   "outputs": [],
   "source": []
  },
  {
   "cell_type": "code",
   "execution_count": null,
   "metadata": {
    "collapsed": true
   },
   "outputs": [],
   "source": []
  },
  {
   "cell_type": "code",
   "execution_count": null,
   "metadata": {
    "collapsed": true
   },
   "outputs": [],
   "source": []
  },
  {
   "cell_type": "code",
   "execution_count": null,
   "metadata": {
    "collapsed": true
   },
   "outputs": [],
   "source": []
  },
  {
   "cell_type": "code",
   "execution_count": null,
   "metadata": {
    "collapsed": true
   },
   "outputs": [],
   "source": []
  },
  {
   "cell_type": "code",
   "execution_count": null,
   "metadata": {
    "collapsed": true
   },
   "outputs": [],
   "source": []
  },
  {
   "cell_type": "code",
   "execution_count": null,
   "metadata": {
    "collapsed": true
   },
   "outputs": [],
   "source": []
  },
  {
   "cell_type": "code",
   "execution_count": null,
   "metadata": {
    "collapsed": true
   },
   "outputs": [],
   "source": []
  },
  {
   "cell_type": "code",
   "execution_count": null,
   "metadata": {
    "collapsed": true
   },
   "outputs": [],
   "source": []
  },
  {
   "cell_type": "code",
   "execution_count": null,
   "metadata": {
    "collapsed": true
   },
   "outputs": [],
   "source": []
  },
  {
   "cell_type": "code",
   "execution_count": null,
   "metadata": {
    "collapsed": true
   },
   "outputs": [],
   "source": []
  },
  {
   "cell_type": "code",
   "execution_count": null,
   "metadata": {
    "collapsed": true
   },
   "outputs": [],
   "source": []
  },
  {
   "cell_type": "code",
   "execution_count": null,
   "metadata": {
    "collapsed": true
   },
   "outputs": [],
   "source": []
  },
  {
   "cell_type": "code",
   "execution_count": null,
   "metadata": {
    "collapsed": true
   },
   "outputs": [],
   "source": []
  },
  {
   "cell_type": "code",
   "execution_count": null,
   "metadata": {
    "collapsed": true
   },
   "outputs": [],
   "source": []
  },
  {
   "cell_type": "code",
   "execution_count": null,
   "metadata": {
    "collapsed": true
   },
   "outputs": [],
   "source": []
  },
  {
   "cell_type": "code",
   "execution_count": null,
   "metadata": {
    "collapsed": true
   },
   "outputs": [],
   "source": []
  },
  {
   "cell_type": "code",
   "execution_count": null,
   "metadata": {
    "collapsed": true
   },
   "outputs": [],
   "source": []
  },
  {
   "cell_type": "code",
   "execution_count": null,
   "metadata": {
    "collapsed": true
   },
   "outputs": [],
   "source": []
  },
  {
   "cell_type": "code",
   "execution_count": null,
   "metadata": {
    "collapsed": true
   },
   "outputs": [],
   "source": []
  },
  {
   "cell_type": "code",
   "execution_count": null,
   "metadata": {
    "collapsed": true
   },
   "outputs": [],
   "source": []
  },
  {
   "cell_type": "code",
   "execution_count": null,
   "metadata": {
    "collapsed": true
   },
   "outputs": [],
   "source": []
  },
  {
   "cell_type": "code",
   "execution_count": null,
   "metadata": {},
   "outputs": [],
   "source": []
  },
  {
   "cell_type": "code",
   "execution_count": null,
   "metadata": {
    "collapsed": true
   },
   "outputs": [],
   "source": []
  },
  {
   "cell_type": "code",
   "execution_count": null,
   "metadata": {
    "collapsed": true
   },
   "outputs": [],
   "source": []
  },
  {
   "cell_type": "code",
   "execution_count": null,
   "metadata": {
    "collapsed": true
   },
   "outputs": [],
   "source": []
  },
  {
   "cell_type": "code",
   "execution_count": null,
   "metadata": {
    "collapsed": true
   },
   "outputs": [],
   "source": []
  },
  {
   "cell_type": "code",
   "execution_count": null,
   "metadata": {
    "collapsed": true
   },
   "outputs": [],
   "source": []
  },
  {
   "cell_type": "code",
   "execution_count": null,
   "metadata": {
    "collapsed": true
   },
   "outputs": [],
   "source": []
  },
  {
   "cell_type": "code",
   "execution_count": null,
   "metadata": {
    "collapsed": true
   },
   "outputs": [],
   "source": []
  },
  {
   "cell_type": "code",
   "execution_count": null,
   "metadata": {
    "collapsed": true
   },
   "outputs": [],
   "source": []
  },
  {
   "cell_type": "code",
   "execution_count": null,
   "metadata": {
    "collapsed": true
   },
   "outputs": [],
   "source": []
  },
  {
   "cell_type": "code",
   "execution_count": null,
   "metadata": {
    "collapsed": true
   },
   "outputs": [],
   "source": []
  },
  {
   "cell_type": "code",
   "execution_count": null,
   "metadata": {
    "collapsed": true
   },
   "outputs": [],
   "source": []
  },
  {
   "cell_type": "code",
   "execution_count": null,
   "metadata": {
    "collapsed": true
   },
   "outputs": [],
   "source": []
  },
  {
   "cell_type": "code",
   "execution_count": null,
   "metadata": {
    "collapsed": true
   },
   "outputs": [],
   "source": []
  },
  {
   "cell_type": "code",
   "execution_count": null,
   "metadata": {
    "collapsed": true
   },
   "outputs": [],
   "source": []
  }
 ],
 "metadata": {
  "kernelspec": {
   "display_name": "Python 3",
   "language": "python",
   "name": "python3"
  },
  "language_info": {
   "codemirror_mode": {
    "name": "ipython",
    "version": 3
   },
   "file_extension": ".py",
   "mimetype": "text/x-python",
   "name": "python",
   "nbconvert_exporter": "python",
   "pygments_lexer": "ipython3",
   "version": "3.6.2"
  }
 },
 "nbformat": 4,
 "nbformat_minor": 2
}
