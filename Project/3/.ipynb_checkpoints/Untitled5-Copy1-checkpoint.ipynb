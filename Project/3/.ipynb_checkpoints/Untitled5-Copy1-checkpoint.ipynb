{
 "cells": [
  {
   "cell_type": "code",
   "execution_count": 1,
   "metadata": {},
   "outputs": [
    {
     "name": "stderr",
     "output_type": "stream",
     "text": [
      "/Users/avinashk94/anaconda3/lib/python3.6/importlib/_bootstrap.py:205: RuntimeWarning: compiletime version 3.5 of module 'tensorflow.python.framework.fast_tensor_util' does not match runtime version 3.6\n",
      "  return f(*args, **kwds)\n"
     ]
    },
    {
     "name": "stdout",
     "output_type": "stream",
     "text": [
      "Extracting MNIST_data/train-images-idx3-ubyte.gz\n",
      "Extracting MNIST_data/train-labels-idx1-ubyte.gz\n",
      "Extracting MNIST_data/t10k-images-idx3-ubyte.gz\n",
      "Extracting MNIST_data/t10k-labels-idx1-ubyte.gz\n"
     ]
    }
   ],
   "source": [
    "import numpy as np\n",
    "import tensorflow as tf\n",
    "from tensorflow.examples.tutorials.mnist import input_data\n",
    "from matplotlib.pyplot import imshow\n",
    "from PIL import Image\n",
    "import time\n",
    "\n",
    "mnist = input_data.read_data_sets(\"MNIST_data/\", one_hot=True)"
   ]
  },
  {
   "cell_type": "code",
   "execution_count": 23,
   "metadata": {},
   "outputs": [],
   "source": [
    "import os\n",
    "from scipy import ndimage, misc\n",
    "import glob\n",
    "\n",
    "images = []\n",
    "\n",
    "for root, dirnames, filenames in os.walk(\"proj3_images/Test/\"):\n",
    "    for filename in filenames:\n",
    "        if \".png\" in filename:\n",
    "            filepath = os.path.join(root, filename)\n",
    "            image = ndimage.imread(filepath, mode=\"RGB\")\n",
    "            image_resized = misc.imresize(image, (64, 64))\n",
    "            images.append(image_resized)"
   ]
  },
  {
   "cell_type": "code",
   "execution_count": 32,
   "metadata": {},
   "outputs": [],
   "source": [
    "tImages = np.asarray(images)"
   ]
  },
  {
   "cell_type": "code",
   "execution_count": 33,
   "metadata": {},
   "outputs": [
    {
     "data": {
      "text/plain": [
       "(1500, 64, 64, 3)"
      ]
     },
     "execution_count": 33,
     "metadata": {},
     "output_type": "execute_result"
    }
   ],
   "source": [
    "tImages.shape"
   ]
  },
  {
   "cell_type": "code",
   "execution_count": 39,
   "metadata": {},
   "outputs": [
    {
     "data": {
      "text/plain": [
       "<matplotlib.image.AxesImage at 0x11ef7f128>"
      ]
     },
     "execution_count": 39,
     "metadata": {},
     "output_type": "execute_result"
    },
    {
     "data": {
      "image/png": "[encoded data removed]",
      "text/plain": [
       "<matplotlib.figure.Figure at 0x11eec80b8>"
      ]
     },
     "metadata": {},
     "output_type": "display_data"
    }
   ],
   "source": [
    "\n",
    "\n",
    "%matplotlib inline\n",
    "imshow(tImages[10])\n",
    "\n",
    "# img = Image.fromarray(tImages[0])\n",
    "# img.show()\n",
    "# misc.toimage(tImages[0]).show()"
   ]
  },
  {
   "cell_type": "code",
   "execution_count": null,
   "metadata": {
    "collapsed": true
   },
   "outputs": [],
   "source": []
  },
  {
   "cell_type": "code",
   "execution_count": null,
   "metadata": {
    "collapsed": true
   },
   "outputs": [],
   "source": []
  },
  {
   "cell_type": "code",
   "execution_count": 2,
   "metadata": {
    "collapsed": true
   },
   "outputs": [],
   "source": [
    "trainImages = mnist.train.images.T\n",
    "testImages = mnist.test.images.T\n",
    "trainLabels = mnist.train.labels.T\n",
    "testLabels = mnist.test.labels.T\n",
    "validationImages = mnist.validation.images.T\n",
    "validationLabels = mnist.validation.labels.T\n",
    "m = trainImages.shape[1]\n",
    "\n",
    "batchSize = 100\n",
    "printEvery = 5\n",
    "nEpochs = 15\n",
    "nClasses = 10\n",
    "learningRate = 0.005 #IF used...."
   ]
  },
  {
   "cell_type": "code",
   "execution_count": 3,
   "metadata": {
    "collapsed": true
   },
   "outputs": [],
   "source": [
    "x = tf.placeholder(tf.float32, [784,None])\n",
    "t = tf.placeholder(tf.float32, [10,None])"
   ]
  },
  {
   "cell_type": "code",
   "execution_count": null,
   "metadata": {
    "collapsed": true
   },
   "outputs": [],
   "source": []
  },
  {
   "cell_type": "code",
   "execution_count": null,
   "metadata": {
    "collapsed": true
   },
   "outputs": [],
   "source": []
  },
  {
   "cell_type": "code",
   "execution_count": null,
   "metadata": {
    "collapsed": true
   },
   "outputs": [],
   "source": []
  },
  {
   "cell_type": "code",
   "execution_count": null,
   "metadata": {
    "collapsed": true
   },
   "outputs": [],
   "source": []
  },
  {
   "cell_type": "code",
   "execution_count": 4,
   "metadata": {
    "collapsed": true
   },
   "outputs": [],
   "source": [
    "def convolve2D(x,W):\n",
    "    return tf.nn.conv2d(x,W,strides=[1,1,1,1], padding='SAME')"
   ]
  },
  {
   "cell_type": "code",
   "execution_count": 5,
   "metadata": {
    "collapsed": true
   },
   "outputs": [],
   "source": [
    "def maxpool2d(x):\n",
    "    return tf.nn.max_pool(x,ksize=[1,2,2,1] ,strides=[1,2,2,1], padding='SAME')"
   ]
  },
  {
   "cell_type": "code",
   "execution_count": null,
   "metadata": {
    "collapsed": true
   },
   "outputs": [],
   "source": []
  },
  {
   "cell_type": "code",
   "execution_count": 6,
   "metadata": {
    "collapsed": true
   },
   "outputs": [],
   "source": [
    "def neuralNetwork(x):\n",
    "    lambdaa = 0.1\n",
    "    nH1 = 512\n",
    "    weights = {'hiddenL1':tf.Variable(tf.random_normal([nH1,784])),\n",
    "               'hiddenL2':tf.Variable(tf.random_normal([10,nH1]))}\n",
    "    \n",
    "    biases = {'hiddenL1':tf.Variable(tf.random_normal([nH1,1])),\n",
    "              'hiddenL2':tf.Variable(tf.random_normal([10,1]))}\n",
    "    \n",
    "    w_h1 = tf.summary.histogram(\"weights1\",weights['hiddenL1'])\n",
    "    w_h2 = tf.summary.histogram(\"weights2\",weights['hiddenL2'])\n",
    "    b_h1 = tf.summary.histogram(\"biases1\",biases['hiddenL1'])\n",
    "    b_h2 = tf.summary.histogram(\"biases2\",biases['hiddenL2'])\n",
    "    \n",
    "    \n",
    "    with tf.name_scope(\"a1\") as scope:\n",
    "        z1 = tf.matmul(weights['hiddenL1'],x) + biases['hiddenL1']\n",
    "        a1 = tf.nn.relu(z1)\n",
    "    \n",
    "    with tf.name_scope(\"a2\") as scope:\n",
    "        z2 = tf.matmul(weights['hiddenL2'],a1) + biases['hiddenL2']\n",
    "    return z2\n",
    "    "
   ]
  },
  {
   "cell_type": "code",
   "execution_count": 7,
   "metadata": {
    "collapsed": true
   },
   "outputs": [],
   "source": [
    "def logistiticRegression(x):\n",
    "    W = tf.Variable(tf.random_normal([10,784]))\n",
    "    b = tf.Variable(tf.zeros([10,1]))\n",
    "    \n",
    "    z = tf.matmul(W,x) + b\n",
    "    return z"
   ]
  },
  {
   "cell_type": "code",
   "execution_count": 6,
   "metadata": {
    "collapsed": true
   },
   "outputs": [],
   "source": [
    "def convolutionalNeuralNetwork(x):\n",
    "    weights = {'conv1':tf.Variable(tf.random_normal([5,5,1,32])),\n",
    "               'conv2':tf.Variable(tf.random_normal([5,5,32,64])),\n",
    "               'fullyC1':tf.Variable(tf.random_normal([7*7*64,1024])),\n",
    "               'fullyC2':tf.Variable(tf.random_normal([1024,1024])),\n",
    "               'out':tf.Variable(tf.random_normal([1024,nClasses]))}\n",
    "    \n",
    "    biases = {'conv1':tf.Variable(tf.random_normal([32])),\n",
    "              'conv2':tf.Variable(tf.random_normal([64])),\n",
    "              'fullyC1':tf.Variable(tf.random_normal([1024])),\n",
    "              'fullyC2':tf.Variable(tf.random_normal([1024])),\n",
    "              'out':tf.Variable(tf.random_normal([nClasses]))}\n",
    "    \n",
    "    x = tf.transpose(x)\n",
    "    \n",
    "    Img = tf.reshape(x,[-1,28,28,1])\n",
    "    \n",
    "    conv1 = tf.nn.relu(convolve2D(Img,weights['conv1']) + biases['conv1'])\n",
    "    \n",
    "    conv1 = maxpool2d(conv1)\n",
    "    print(conv1)\n",
    "    \n",
    "    conv2 = tf.nn.relu(convolve2D(conv1,weights['conv2']) + biases['conv2'])\n",
    "#     print(conv2)\n",
    "    conv2 = maxpool2d(conv2)\n",
    "    print(conv2)\n",
    "    \n",
    "    conv2 = tf.reshape(conv2,[-1,7*7*64])\n",
    "#     print(conv2)\n",
    "    fcLayer1 = tf.nn.relu(tf.matmul(conv2,weights['fullyC1']) + biases['fullyC1'])\n",
    "#     print(fcLayer1)\n",
    "    fcLayer1 = tf.nn.dropout(fcLayer1,keepRate)\n",
    "    fcLayer2 = tf.nn.relu(tf.matmul(fcLayer1,weights['fullyC2']) + biases['fullyC2'])\n",
    "    output = tf.matmul(fcLayer2,weights['out']) + biases['out']\n",
    "    print(output)\n",
    "    \n",
    "    return tf.transpose(output)"
   ]
  },
  {
   "cell_type": "code",
   "execution_count": null,
   "metadata": {
    "collapsed": true
   },
   "outputs": [],
   "source": []
  },
  {
   "cell_type": "code",
   "execution_count": null,
   "metadata": {
    "collapsed": true
   },
   "outputs": [],
   "source": []
  },
  {
   "cell_type": "code",
   "execution_count": 7,
   "metadata": {
    "collapsed": true
   },
   "outputs": [],
   "source": [
    "def convolutionalNeuralNetwork2(x):\n",
    "    weights = {'conv1':tf.Variable(tf.random_normal([5,5,1,32])),\n",
    "               'conv2':tf.Variable(tf.random_normal([5,5,32,32])),\n",
    "               'conv3':tf.Variable(tf.random_normal([5,5,32,64])),\n",
    "               'conv4':tf.Variable(tf.random_normal([5,5,64,64])),\n",
    "               'fullyC1':tf.Variable(tf.random_normal([7*7*64,1024])),\n",
    "               'fullyC2':tf.Variable(tf.random_normal([1024,1024])),\n",
    "               'out':tf.Variable(tf.random_normal([1024,nClasses]))}\n",
    "    \n",
    "    biases = {'conv1':tf.Variable(tf.random_normal([32])),\n",
    "              'conv2':tf.Variable(tf.random_normal([32])),\n",
    "              'conv3':tf.Variable(tf.random_normal([64])),\n",
    "              'conv4':tf.Variable(tf.random_normal([64])),\n",
    "              'fullyC1':tf.Variable(tf.random_normal([1024])),\n",
    "              'fullyC2':tf.Variable(tf.random_normal([1024])),\n",
    "              'out':tf.Variable(tf.random_normal([nClasses]))}\n",
    "    \n",
    "    x = tf.transpose(x)\n",
    "    \n",
    "    Img = tf.reshape(x,[-1,28,28,1])\n",
    "    \n",
    "    conv1 = tf.nn.relu(convolve2D(Img,weights['conv1']) + biases['conv1'])\n",
    "    print(conv1)\n",
    "    conv2 = tf.nn.relu(convolve2D(conv1,weights['conv2']) + biases['conv2'])\n",
    "    print(conv2)\n",
    "    conv2 = maxpool2d(conv2)\n",
    "    print(conv2)\n",
    "    \n",
    "    conv3 = tf.nn.relu(convolve2D(conv2,weights['conv3']) + biases['conv3'])\n",
    "    print(conv3)\n",
    "    conv4 = tf.nn.relu(convolve2D(conv3,weights['conv4']) + biases['conv4'])\n",
    "    print(conv4)\n",
    "    conv4 = maxpool2d(conv4)\n",
    "    print(conv4)\n",
    "    \n",
    "    conv4 = tf.reshape(conv4,[-1,7*7*64])\n",
    "    print(conv2)\n",
    "    fcLayer1 = tf.nn.relu(tf.matmul(conv4,weights['fullyC1']) + biases['fullyC1'])\n",
    "#     print(fcLayer1)\n",
    "    fcLayer1 = tf.nn.dropout(fcLayer1,keepRate)\n",
    "    fcLayer2 = tf.nn.relu(tf.matmul(fcLayer1,weights['fullyC2']) + biases['fullyC2'])\n",
    "    output = tf.matmul(fcLayer2,weights['out']) + biases['out']\n",
    "    print(output)\n",
    "    \n",
    "    return tf.transpose(output)"
   ]
  },
  {
   "cell_type": "code",
   "execution_count": null,
   "metadata": {
    "collapsed": true
   },
   "outputs": [],
   "source": []
  },
  {
   "cell_type": "code",
   "execution_count": null,
   "metadata": {
    "collapsed": true
   },
   "outputs": [],
   "source": []
  },
  {
   "cell_type": "code",
   "execution_count": null,
   "metadata": {
    "collapsed": true
   },
   "outputs": [],
   "source": []
  },
  {
   "cell_type": "code",
   "execution_count": null,
   "metadata": {
    "collapsed": true
   },
   "outputs": [],
   "source": []
  },
  {
   "cell_type": "code",
   "execution_count": null,
   "metadata": {
    "collapsed": true
   },
   "outputs": [],
   "source": []
  },
  {
   "cell_type": "code",
   "execution_count": null,
   "metadata": {
    "collapsed": true
   },
   "outputs": [],
   "source": []
  },
  {
   "cell_type": "code",
   "execution_count": null,
   "metadata": {
    "collapsed": true
   },
   "outputs": [],
   "source": []
  },
  {
   "cell_type": "code",
   "execution_count": null,
   "metadata": {
    "collapsed": true
   },
   "outputs": [],
   "source": []
  },
  {
   "cell_type": "code",
   "execution_count": null,
   "metadata": {
    "collapsed": true
   },
   "outputs": [],
   "source": []
  },
  {
   "cell_type": "code",
   "execution_count": 8,
   "metadata": {
    "collapsed": true
   },
   "outputs": [],
   "source": [
    "def trainNetwork():\n",
    "    with tf.name_scope(\"loss\") as scope:\n",
    "        loss = tf.reduce_mean(tf.nn.softmax_cross_entropy_with_logits(logits=tf.transpose(y),labels=tf.transpose(t)))\n",
    "        tf.summary.scalar(\"loss\",loss)\n",
    "    \n",
    "    with tf.name_scope(\"training\") as scope:\n",
    "        optimizer = tf.train.AdamOptimizer().minimize(loss)\n",
    "    \n",
    "    with tf.name_scope(\"accuracy\") as scope:\n",
    "        correct = tf.equal(tf.argmax(y),tf.argmax(t))\n",
    "        accuracy = tf.reduce_mean(tf.cast(correct,'float'))\n",
    "        \n",
    "    init = tf.global_variables_initializer()\n",
    "    sess = tf.Session()\n",
    "    mergeSummary = tf.summary.merge_all()\n",
    "\n",
    "    sess.run(init)\n",
    "    summaryWriter = tf.summary.FileWriter('../../TFout/2', sess.graph)\n",
    "\n",
    "    for epoch in range(nEpochs):\n",
    "        error = 0.0\n",
    "        for i in range(int(m/batchSize)):\n",
    "            batch_xs, batch_ys = mnist.train.next_batch(batchSize)\n",
    "            _, er, summaryStr = sess.run([optimizer,loss,mergeSummary],feed_dict={x:batch_xs.T,t:batch_ys.T})\n",
    "            summaryWriter.add_summary(summaryStr, epoch*(int(m/batchSize)) + i)\n",
    "            error += er\n",
    "        if (epoch+1)%printEvery == 0:\n",
    "            print('Loss in ',epoch+1,' epoch is ',error)\n",
    "\n",
    "    prediction = tf.equal(tf.argmax(y),tf.argmax(t))\n",
    "    accuracy = tf.reduce_mean(tf.cast(prediction,\"float\"))\n",
    "    print(\"Accuracy Train:\", sess.run(accuracy,{x: trainImages, t: trainLabels}))\n",
    "    print(\"Accuracy validation:\", sess.run(accuracy,{x: validationImages, t: validationLabels}))\n",
    "    print(\"Accuracy Test:\", sess.run(accuracy,{x: testImages, t: testLabels}))"
   ]
  },
  {
   "cell_type": "code",
   "execution_count": null,
   "metadata": {
    "collapsed": true
   },
   "outputs": [],
   "source": []
  },
  {
   "cell_type": "code",
   "execution_count": 9,
   "metadata": {},
   "outputs": [
    {
     "name": "stdout",
     "output_type": "stream",
     "text": [
      "Tensor(\"MaxPool:0\", shape=(?, 14, 14, 32), dtype=float32)\n",
      "Tensor(\"MaxPool_1:0\", shape=(?, 7, 7, 64), dtype=float32)\n",
      "Tensor(\"add_4:0\", shape=(?, 10), dtype=float32)\n",
      "Accuracy Train: 0.943873\n",
      "Accuracy validation: 0.946\n",
      "Accuracy Test: 0.9372\n",
      "--- 345.4191348552704 seconds ---\n"
     ]
    }
   ],
   "source": [
    "# y = logistiticRegression(x)\n",
    "# nEpochs = 50\n",
    "# trainNetwork()\n",
    "\n",
    "\n",
    "# y = neuralNetwork(x)\n",
    "# nEpochs = 15\n",
    "# trainNetwork()\n",
    "\n",
    "nEpochs = 2\n",
    "keepRate = 0.7\n",
    "start_time = time.time()\n",
    "y = convolutionalNeuralNetwork(x)\n",
    "trainNetwork()\n",
    "print(\"--- %s seconds ---\" % (time.time() - start_time))"
   ]
  },
  {
   "cell_type": "code",
   "execution_count": 9,
   "metadata": {},
   "outputs": [
    {
     "name": "stdout",
     "output_type": "stream",
     "text": [
      "Tensor(\"Relu:0\", shape=(?, 28, 28, 32), dtype=float32)\n",
      "Tensor(\"Relu_1:0\", shape=(?, 28, 28, 32), dtype=float32)\n",
      "Tensor(\"MaxPool:0\", shape=(?, 14, 14, 32), dtype=float32)\n",
      "Tensor(\"Relu_2:0\", shape=(?, 14, 14, 64), dtype=float32)\n",
      "Tensor(\"Relu_3:0\", shape=(?, 14, 14, 64), dtype=float32)\n",
      "Tensor(\"MaxPool_1:0\", shape=(?, 7, 7, 64), dtype=float32)\n",
      "Tensor(\"MaxPool:0\", shape=(?, 14, 14, 32), dtype=float32)\n",
      "Tensor(\"add_6:0\", shape=(?, 10), dtype=float32)\n",
      "Accuracy Train: 0.935236\n",
      "Accuracy validation: 0.9358\n",
      "Accuracy Test: 0.935\n",
      "--- 2939.3618619441986 seconds ---\n"
     ]
    }
   ],
   "source": [
    "nEpochs = 2\n",
    "keepRate = 0.7\n",
    "start_time = time.time()\n",
    "y = convolutionalNeuralNetwork2(x)\n",
    "trainNetwork()\n",
    "print(\"--- %s seconds ---\" % (time.time() - start_time))"
   ]
  },
  {
   "cell_type": "code",
   "execution_count": null,
   "metadata": {
    "collapsed": true
   },
   "outputs": [],
   "source": [
    "nEpochs"
   ]
  },
  {
   "cell_type": "code",
   "execution_count": null,
   "metadata": {
    "collapsed": true
   },
   "outputs": [],
   "source": []
  },
  {
   "cell_type": "code",
   "execution_count": null,
   "metadata": {
    "collapsed": true
   },
   "outputs": [],
   "source": []
  },
  {
   "cell_type": "code",
   "execution_count": null,
   "metadata": {
    "collapsed": true
   },
   "outputs": [],
   "source": []
  },
  {
   "cell_type": "code",
   "execution_count": null,
   "metadata": {
    "collapsed": true
   },
   "outputs": [],
   "source": []
  },
  {
   "cell_type": "code",
   "execution_count": null,
   "metadata": {
    "collapsed": true
   },
   "outputs": [],
   "source": []
  },
  {
   "cell_type": "code",
   "execution_count": null,
   "metadata": {
    "collapsed": true
   },
   "outputs": [],
   "source": []
  },
  {
   "cell_type": "code",
   "execution_count": null,
   "metadata": {
    "collapsed": true
   },
   "outputs": [],
   "source": []
  },
  {
   "cell_type": "code",
   "execution_count": null,
   "metadata": {
    "collapsed": true
   },
   "outputs": [],
   "source": []
  },
  {
   "cell_type": "code",
   "execution_count": null,
   "metadata": {
    "collapsed": true
   },
   "outputs": [],
   "source": []
  },
  {
   "cell_type": "code",
   "execution_count": null,
   "metadata": {
    "collapsed": true
   },
   "outputs": [],
   "source": []
  },
  {
   "cell_type": "code",
   "execution_count": null,
   "metadata": {
    "collapsed": true
   },
   "outputs": [],
   "source": []
  },
  {
   "cell_type": "code",
   "execution_count": null,
   "metadata": {
    "collapsed": true
   },
   "outputs": [],
   "source": []
  }
 ],
 "metadata": {
  "kernelspec": {
   "display_name": "Python 3",
   "language": "python",
   "name": "python3"
  },
  "language_info": {
   "codemirror_mode": {
    "name": "ipython",
    "version": 3
   },
   "file_extension": ".py",
   "mimetype": "text/x-python",
   "name": "python",
   "nbconvert_exporter": "python",
   "pygments_lexer": "ipython3",
   "version": "3.6.2"
  }
 },
 "nbformat": 4,
 "nbformat_minor": 2
}
