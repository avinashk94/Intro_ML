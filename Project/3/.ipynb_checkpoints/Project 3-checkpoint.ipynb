{
 "cells": [
  {
   "cell_type": "code",
   "execution_count": 1,
   "metadata": {},
   "outputs": [
    {
     "name": "stderr",
     "output_type": "stream",
     "text": [
      "/Users/avinashk94/anaconda3/lib/python3.6/importlib/_bootstrap.py:205: RuntimeWarning: compiletime version 3.5 of module 'tensorflow.python.framework.fast_tensor_util' does not match runtime version 3.6\n",
      "  return f(*args, **kwds)\n"
     ]
    }
   ],
   "source": [
    "import random\n",
    "import numpy as np\n",
    "import pandas as pd\n",
    "from scipy.stats import multivariate_normal\n",
    "import matplotlib.pyplot as plt\n",
    "from sklearn import preprocessing as prep\n",
    "import tensorflow as tf\n",
    "from tensorflow.examples.tutorials.mnist import input_data\n",
    "from sklearn.linear_model import LogisticRegression"
   ]
  },
  {
   "cell_type": "code",
   "execution_count": 2,
   "metadata": {},
   "outputs": [
    {
     "name": "stdout",
     "output_type": "stream",
     "text": [
      "Extracting MNIST_data/train-images-idx3-ubyte.gz\n",
      "Extracting MNIST_data/train-labels-idx1-ubyte.gz\n",
      "Extracting MNIST_data/t10k-images-idx3-ubyte.gz\n",
      "Extracting MNIST_data/t10k-labels-idx1-ubyte.gz\n"
     ]
    }
   ],
   "source": [
    "mnist = input_data.read_data_sets(\"MNIST_data/\", one_hot=True)"
   ]
  },
  {
   "cell_type": "code",
   "execution_count": 25,
   "metadata": {
    "collapsed": true
   },
   "outputs": [],
   "source": [
    "trainImages = mnist.train.images.T\n",
    "testImages = mnist.test.images.T\n",
    "trainLabels = mnist.train.labels.T\n",
    "testLabels = mnist.test.labels.T\n",
    "validationImages = mnist.validation.images.T\n",
    "validationLabels = mnist.validation.labels.T\n",
    "m = trainImages.shape[1]"
   ]
  },
  {
   "cell_type": "code",
   "execution_count": 27,
   "metadata": {
    "collapsed": true
   },
   "outputs": [],
   "source": [
    "def softmax(x):\n",
    "    x -= np.nanmax(x,axis = 0, keepdims = True)\n",
    "    return np.exp(x)/np.sum(np.exp(x))"
   ]
  },
  {
   "cell_type": "code",
   "execution_count": 11,
   "metadata": {},
   "outputs": [
    {
     "data": {
      "text/plain": [
       "(1, 55000)"
      ]
     },
     "execution_count": 11,
     "metadata": {},
     "output_type": "execute_result"
    }
   ],
   "source": [
    "np.nanmax(trainImages,axis = 0, keepdims = True).shape\n"
   ]
  },
  {
   "cell_type": "code",
   "execution_count": 18,
   "metadata": {},
   "outputs": [],
   "source": [
    "trainImages = prep.normalize(trainImages)\n",
    "W = np.random.randn(trainLabels.shape[0],trainImages.shape[0]) #Weights\n",
    "b = np.random.randn(trainLabels.shape[0],1)\n",
    "dW = np.zeros_like(W)\n",
    "db = np.zeros_like(b)"
   ]
  },
  {
   "cell_type": "code",
   "execution_count": 11,
   "metadata": {},
   "outputs": [
    {
     "data": {
      "text/plain": [
       "(10, 784)"
      ]
     },
     "execution_count": 11,
     "metadata": {},
     "output_type": "execute_result"
    }
   ],
   "source": [
    "dW.shape"
   ]
  },
  {
   "cell_type": "code",
   "execution_count": 19,
   "metadata": {},
   "outputs": [],
   "source": [
    "z = np.dot(W,trainImages) + b\n",
    "a = softmax(z)\n",
    "# Y = np.multiply(y,trainLabels)"
   ]
  },
  {
   "cell_type": "code",
   "execution_count": 9,
   "metadata": {},
   "outputs": [
    {
     "data": {
      "text/plain": [
       "(10, 55000)"
      ]
     },
     "execution_count": 9,
     "metadata": {},
     "output_type": "execute_result"
    }
   ],
   "source": [
    "a.shape"
   ]
  },
  {
   "cell_type": "code",
   "execution_count": null,
   "metadata": {},
   "outputs": [],
   "source": []
  },
  {
   "cell_type": "code",
   "execution_count": 11,
   "metadata": {},
   "outputs": [
    {
     "data": {
      "text/plain": [
       "(55000,)"
      ]
     },
     "execution_count": 11,
     "metadata": {},
     "output_type": "execute_result"
    }
   ],
   "source": [
    "crossEntropyError = -np.sum(np.multiply(trainLabels,np.log(a)),0)\n",
    "crossEntropyError.shape"
   ]
  },
  {
   "cell_type": "code",
   "execution_count": 12,
   "metadata": {},
   "outputs": [
    {
     "data": {
      "text/plain": [
       "(10, 55000)"
      ]
     },
     "execution_count": 12,
     "metadata": {},
     "output_type": "execute_result"
    }
   ],
   "source": [
    "trainLabels.shape"
   ]
  },
  {
   "cell_type": "code",
   "execution_count": 21,
   "metadata": {},
   "outputs": [
    {
     "data": {
      "text/plain": [
       "array([  2.30937045e-06,   3.39537355e-06,   3.64238487e-06,\n",
       "         3.25815545e-07,   7.90554477e-07,   5.31920222e-06,\n",
       "         1.58947363e-06,  -9.99998920e-01,   4.70085660e-07,\n",
       "         1.97388721e-07])"
      ]
     },
     "execution_count": 21,
     "metadata": {},
     "output_type": "execute_result"
    }
   ],
   "source": [
    "dz = a - trainLabels\n",
    "dW += dz.dot(trainImages.T)\n",
    "dz[:,0]\n"
   ]
  },
  {
   "cell_type": "code",
   "execution_count": 23,
   "metadata": {},
   "outputs": [
    {
     "data": {
      "text/plain": [
       "array([ 0.,  0.,  0.,  0.,  0.,  0.,  0.,  0.,  0.,  0.])"
      ]
     },
     "execution_count": 23,
     "metadata": {},
     "output_type": "execute_result"
    }
   ],
   "source": [
    "dW[:,0]"
   ]
  },
  {
   "cell_type": "code",
   "execution_count": 34,
   "metadata": {},
   "outputs": [
    {
     "name": "stdout",
     "output_type": "stream",
     "text": [
      "(10, 1)\n"
     ]
    },
    {
     "data": {
      "text/plain": [
       "(10, 1)"
      ]
     },
     "execution_count": 34,
     "metadata": {},
     "output_type": "execute_result"
    }
   ],
   "source": [
    "# dw = dz.dot(trainImages.T)\n",
    "# db = np.sum(dz,1)\n",
    "# db.shape\n",
    "# print(b.shape)\n",
    "# b = b - learningRate*db[:,np.newaxis]\n",
    "# b.shape"
   ]
  },
  {
   "cell_type": "code",
   "execution_count": 15,
   "metadata": {
    "collapsed": true
   },
   "outputs": [],
   "source": [
    "iterations = 1000\n",
    "learningRate = 0.001"
   ]
  },
  {
   "cell_type": "code",
   "execution_count": 16,
   "metadata": {},
   "outputs": [
    {
     "name": "stdout",
     "output_type": "stream",
     "text": [
      "Error 768485.364347\n"
     ]
    },
    {
     "ename": "NameError",
     "evalue": "name 'dw' is not defined",
     "output_type": "error",
     "traceback": [
      "\u001b[0;31m---------------------------------------------------------------------------\u001b[0m",
      "\u001b[0;31mNameError\u001b[0m                                 Traceback (most recent call last)",
      "\u001b[0;32m<ipython-input-16-5720f2fea7e9>\u001b[0m in \u001b[0;36m<module>\u001b[0;34m()\u001b[0m\n\u001b[1;32m      7\u001b[0m \u001b[0;31m#     print(\"dz\",dz[:,0])\u001b[0m\u001b[0;34m\u001b[0m\u001b[0;34m\u001b[0m\u001b[0m\n\u001b[1;32m      8\u001b[0m     \u001b[0mdW\u001b[0m \u001b[0;34m=\u001b[0m \u001b[0mdz\u001b[0m\u001b[0;34m.\u001b[0m\u001b[0mdot\u001b[0m\u001b[0;34m(\u001b[0m\u001b[0mtrainImages\u001b[0m\u001b[0;34m.\u001b[0m\u001b[0mT\u001b[0m\u001b[0;34m)\u001b[0m\u001b[0;34m\u001b[0m\u001b[0m\n\u001b[0;32m----> 9\u001b[0;31m     \u001b[0mprint\u001b[0m\u001b[0;34m(\u001b[0m\u001b[0;34m\"dw\"\u001b[0m\u001b[0;34m,\u001b[0m\u001b[0mdw\u001b[0m\u001b[0;34m[\u001b[0m\u001b[0;34m:\u001b[0m\u001b[0;34m,\u001b[0m\u001b[0;36m0\u001b[0m\u001b[0;34m]\u001b[0m\u001b[0;34m)\u001b[0m\u001b[0;34m\u001b[0m\u001b[0m\n\u001b[0m\u001b[1;32m     10\u001b[0m     \u001b[0mdb\u001b[0m \u001b[0;34m=\u001b[0m \u001b[0mnp\u001b[0m\u001b[0;34m.\u001b[0m\u001b[0msum\u001b[0m\u001b[0;34m(\u001b[0m\u001b[0mdz\u001b[0m\u001b[0;34m,\u001b[0m\u001b[0;36m1\u001b[0m\u001b[0;34m)\u001b[0m\u001b[0;34m\u001b[0m\u001b[0m\n\u001b[1;32m     11\u001b[0m     \u001b[0mW\u001b[0m \u001b[0;34m=\u001b[0m \u001b[0mW\u001b[0m \u001b[0;34m-\u001b[0m \u001b[0mlearningRate\u001b[0m\u001b[0;34m*\u001b[0m\u001b[0mdW\u001b[0m\u001b[0;34m\u001b[0m\u001b[0m\n",
      "\u001b[0;31mNameError\u001b[0m: name 'dw' is not defined"
     ]
    }
   ],
   "source": [
    "for _ in range(iterations):\n",
    "    z = np.dot(W,trainImages) + b\n",
    "    a = softmax(z)\n",
    "    crossEntropyError = -np.sum(np.multiply(trainLabels,np.log(a)),0)\n",
    "    print(\"Error\",np.sum(crossEntropyError))\n",
    "    dz = a - trainLabels\n",
    "#     print(\"dz\",dz[:,0])\n",
    "    dW = dz.dot(trainImages.T)\n",
    "    print(\"dw\",dW[:,0])\n",
    "    db = np.sum(dz,1)\n",
    "    W = W - learningRate*dW\n",
    "#     print(\"W:\",W)\n",
    "    b = b - learningRate*db[:,np.newaxis]"
   ]
  },
  {
   "cell_type": "code",
   "execution_count": 21,
   "metadata": {},
   "outputs": [
    {
     "name": "stderr",
     "output_type": "stream",
     "text": [
      "/Users/avinashk94/anaconda3/lib/python3.6/site-packages/sklearn/utils/validation.py:547: DataConversionWarning: A column-vector y was passed when a 1d array was expected. Please change the shape of y to (n_samples, ), for example using ravel().\n",
      "  y = column_or_1d(y, warn=True)\n"
     ]
    }
   ],
   "source": [
    "model = LogisticRegression()\n",
    "model = model.fit(trainImages.T, np.argmax(trainLabels,0)[:,np.newaxis])\n",
    "\n",
    "\n",
    "\n"
   ]
  },
  {
   "cell_type": "code",
   "execution_count": 20,
   "metadata": {},
   "outputs": [
    {
     "data": {
      "text/plain": [
       "(55000, 1)"
      ]
     },
     "execution_count": 20,
     "metadata": {},
     "output_type": "execute_result"
    }
   ],
   "source": [
    "np.argmax(trainLabels,0)[:,np.newaxis].shape"
   ]
  },
  {
   "cell_type": "code",
   "execution_count": 22,
   "metadata": {},
   "outputs": [
    {
     "data": {
      "text/plain": [
       "0.82489090909090912"
      ]
     },
     "execution_count": 22,
     "metadata": {},
     "output_type": "execute_result"
    }
   ],
   "source": [
    "model.score(trainImages.T, np.argmax(trainLabels,0)[:,np.newaxis])"
   ]
  },
  {
   "cell_type": "code",
   "execution_count": 43,
   "metadata": {},
   "outputs": [
    {
     "name": "stdout",
     "output_type": "stream",
     "text": [
      "Error 1303894.92308\n",
      "Error 1269753.17679\n",
      "Error 1269778.56901\n",
      "Error 1269779.93466\n",
      "Error 1269787.10166\n",
      "Error 1269800.17628\n",
      "Error 1269819.14654\n",
      "Error 1269843.9996\n",
      "Error 1269874.72226\n",
      "Error 1269911.30095\n",
      "Error 1269953.72178\n",
      "Error 1270001.97045\n",
      "Error 1270056.03232\n",
      "Error 1270115.89236\n",
      "Error 1270181.53517\n",
      "Error 1270252.94496\n",
      "Error 1270330.10556\n",
      "Error 1270413.00039\n",
      "Error 1270501.61252\n",
      "Error 1270595.92457\n",
      "Error 1270695.91882\n",
      "Error 1270801.57709\n",
      "Error 1270912.88086\n",
      "Error 1271029.81115\n",
      "Error 1271152.34862\n",
      "Error 1271280.47351\n",
      "Error 1271414.16566\n",
      "Error 1271553.40449\n",
      "Error 1271698.16905\n",
      "Error 1271848.43795\n",
      "Error 1272004.18942\n",
      "Error 1272165.40131\n",
      "Error 1272332.05103\n",
      "Error 1272504.11563\n",
      "Error 1272681.57176\n",
      "Error 1272864.39568\n",
      "Error 1273052.56326\n",
      "Error 1273246.05\n",
      "Error 1273444.83102\n",
      "Error 1273648.88107\n",
      "Error 1273858.17453\n",
      "Error 1274072.68541\n",
      "Error 1274292.3874\n",
      "Error 1274517.25379\n",
      "Error 1274747.25758\n",
      "Error 1274982.37138\n",
      "Error 1275222.56752\n",
      "Error 1275467.81797\n",
      "Error 1275718.0944\n",
      "Error 1275973.36817\n",
      "Error 1276233.61035\n",
      "Error 1276498.7917\n",
      "Error 1276768.8827\n",
      "Error 1277043.85357\n",
      "Error 1277323.67424\n",
      "Error 1277608.31441\n",
      "Error 1277897.7435\n",
      "Error 1278191.93072\n",
      "Error 1278490.84502\n",
      "Error 1278794.45515\n",
      "Error 1279102.72964\n",
      "Error 1279415.63681\n",
      "Error 1279733.14479\n",
      "Error 1280055.22155\n",
      "Error 1280381.83484\n",
      "Error 1280712.95229\n",
      "Error 1281048.54135\n",
      "Error 1281388.56932\n",
      "Error 1281733.00338\n",
      "Error 1282081.81058\n",
      "Error 1282434.95784\n",
      "Error 1282792.412\n",
      "Error 1283154.13977\n",
      "Error 1283520.1078\n",
      "Error 1283890.28264\n",
      "Error 1284264.63079\n",
      "Error 1284643.11866\n",
      "Error 1285025.71263\n",
      "Error 1285412.37904\n",
      "Error 1285803.08419\n",
      "Error 1286197.79434\n",
      "Error 1286596.47577\n",
      "Error 1286999.09471\n",
      "Error 1287405.61741\n",
      "Error 1287816.01013\n",
      "Error 1288230.23914\n",
      "Error 1288648.27074\n",
      "Error 1289070.07125\n",
      "Error 1289495.60704\n",
      "Error 1289924.84453\n",
      "Error 1290357.75016\n",
      "Error 1290794.29048\n",
      "Error 1291234.43207\n",
      "Error 1291678.1416\n",
      "Error 1292125.3858\n",
      "Error 1292576.13152\n",
      "Error 1293030.34567\n",
      "Error 1293487.99527\n",
      "Error 1293949.04745\n",
      "Error 1294413.46944\n",
      "Error 1294881.22858\n",
      "Error 1295352.29235\n",
      "Error 1295826.62832\n",
      "Error 1296304.20422\n",
      "Error 1296784.98791\n",
      "Error 1297268.94737\n",
      "Error 1297756.05073\n",
      "Error 1298246.26628\n",
      "Error 1298739.56244\n",
      "Error 1299235.90779\n",
      "Error 1299735.27108\n",
      "Error 1300237.62121\n",
      "Error 1300742.92723\n",
      "Error 1301251.15839\n",
      "Error 1301762.28408\n",
      "Error 1302276.27388\n",
      "Error 1302793.09753\n",
      "Error 1303312.72496\n",
      "Error 1303835.12629\n",
      "Error 1304360.2718\n",
      "Error 1304888.13195\n",
      "Error 1305418.67743\n",
      "Error 1305951.87906\n",
      "Error 1306487.70789\n",
      "Error 1307026.13515\n",
      "Error 1307567.13226\n",
      "Error 1308110.67084\n",
      "Error 1308656.72268\n",
      "Error 1309205.25981\n",
      "Error 1309756.25443\n",
      "Error 1310309.67893\n",
      "Error 1310865.50592\n",
      "Error 1311423.7082\n",
      "Error 1311984.25877\n",
      "Error 1312547.13083\n",
      "Error 1313112.29778\n",
      "Error 1313679.73323\n",
      "Error 1314249.41098\n",
      "Error 1314821.30505\n",
      "Error 1315395.38962\n",
      "Error 1315971.63913\n",
      "Error 1316550.02818\n",
      "Error 1317130.53159\n",
      "Error 1317713.12437\n",
      "Error 1318297.78174\n",
      "Error 1318884.47913\n",
      "Error 1319473.19214\n",
      "Error 1320063.89659\n",
      "Error 1320656.56852\n",
      "Error 1321251.18413\n",
      "Error 1321847.71985\n",
      "Error 1322446.15229\n",
      "Error 1323046.45826\n",
      "Error 1323648.61477\n",
      "Error 1324252.59904\n",
      "Error 1324858.38845\n",
      "Error 1325465.96062\n",
      "Error 1326075.29331\n",
      "Error 1326686.36453\n",
      "Error 1327299.15245\n",
      "Error 1327913.63542\n",
      "Error 1328529.79201\n",
      "Error 1329147.60095\n",
      "Error 1329767.04119\n",
      "Error 1330388.09184\n",
      "Error 1331010.73221\n",
      "Error 1331634.94179\n",
      "Error 1332260.70025\n",
      "Error 1332887.98745\n",
      "Error 1333516.78342\n",
      "Error 1334147.0684\n",
      "Error 1334778.82277\n",
      "Error 1335412.02711\n",
      "Error 1336046.66218\n",
      "Error 1336682.70891\n",
      "Error 1337320.1484\n",
      "Error 1337958.96192\n",
      "Error 1338599.13093\n",
      "Error 1339240.63706\n",
      "Error 1339883.46208\n",
      "Error 1340527.58795\n",
      "Error 1341172.99681\n",
      "Error 1341819.67095\n",
      "Error 1342467.59282\n",
      "Error 1343116.74505\n",
      "Error 1343767.11041\n",
      "Error 1344418.67185\n",
      "Error 1345071.41248\n",
      "Error 1345725.31556\n",
      "Error 1346380.3645\n",
      "Error 1347036.54289\n",
      "Error 1347693.83444\n",
      "Error 1348352.22306\n",
      "Error 1349011.69277\n",
      "Error 1349672.22776\n",
      "Error 1350333.81236\n",
      "Error 1350996.43107\n",
      "Error 1351660.06852\n",
      "Error 1352324.70949\n",
      "Error 1352990.33889\n",
      "Error 1353656.9418\n",
      "Error 1354324.50343\n",
      "Error 1354993.00913\n",
      "Error 1355662.44439\n",
      "Error 1356332.79484\n",
      "Error 1357004.04625\n",
      "Error 1357676.18452\n",
      "Error 1358349.19569\n",
      "Error 1359023.06594\n",
      "Error 1359697.78157\n",
      "Error 1360373.32901\n",
      "Error 1361049.69485\n",
      "Error 1361726.86577\n",
      "Error 1362404.8286\n",
      "Error 1363083.5703\n",
      "Error 1363763.07794\n",
      "Error 1364443.33873\n"
     ]
    },
    {
     "ename": "KeyboardInterrupt",
     "evalue": "",
     "output_type": "error",
     "traceback": [
      "\u001b[0;31m---------------------------------------------------------------------------\u001b[0m",
      "\u001b[0;31mKeyboardInterrupt\u001b[0m                         Traceback (most recent call last)",
      "\u001b[0;32m<ipython-input-43-d288996bfe90>\u001b[0m in \u001b[0;36m<module>\u001b[0;34m()\u001b[0m\n\u001b[1;32m     11\u001b[0m         \u001b[0mz\u001b[0m \u001b[0;34m=\u001b[0m \u001b[0mnp\u001b[0m\u001b[0;34m.\u001b[0m\u001b[0mdot\u001b[0m\u001b[0;34m(\u001b[0m\u001b[0mW\u001b[0m\u001b[0;34m,\u001b[0m\u001b[0mtrainImages\u001b[0m\u001b[0;34m[\u001b[0m\u001b[0;34m:\u001b[0m\u001b[0;34m,\u001b[0m\u001b[0mi\u001b[0m\u001b[0;34m]\u001b[0m\u001b[0;34m)\u001b[0m\u001b[0;34m[\u001b[0m\u001b[0;34m:\u001b[0m\u001b[0;34m,\u001b[0m\u001b[0mnp\u001b[0m\u001b[0;34m.\u001b[0m\u001b[0mnewaxis\u001b[0m\u001b[0;34m]\u001b[0m \u001b[0;34m+\u001b[0m \u001b[0mb\u001b[0m\u001b[0;34m\u001b[0m\u001b[0m\n\u001b[1;32m     12\u001b[0m         \u001b[0ma\u001b[0m \u001b[0;34m=\u001b[0m \u001b[0msoftmax\u001b[0m\u001b[0;34m(\u001b[0m\u001b[0mz\u001b[0m\u001b[0;34m)\u001b[0m\u001b[0;34m\u001b[0m\u001b[0m\n\u001b[0;32m---> 13\u001b[0;31m         \u001b[0mcrossEntropyError\u001b[0m \u001b[0;34m+=\u001b[0m \u001b[0;34m-\u001b[0m\u001b[0mnp\u001b[0m\u001b[0;34m.\u001b[0m\u001b[0msum\u001b[0m\u001b[0;34m(\u001b[0m\u001b[0mnp\u001b[0m\u001b[0;34m.\u001b[0m\u001b[0mmultiply\u001b[0m\u001b[0;34m(\u001b[0m\u001b[0mtrainLabels\u001b[0m\u001b[0;34m[\u001b[0m\u001b[0;34m:\u001b[0m\u001b[0;34m,\u001b[0m\u001b[0mi\u001b[0m\u001b[0;34m]\u001b[0m\u001b[0;34m,\u001b[0m\u001b[0mnp\u001b[0m\u001b[0;34m.\u001b[0m\u001b[0mlog\u001b[0m\u001b[0;34m(\u001b[0m\u001b[0ma\u001b[0m\u001b[0;34m)\u001b[0m\u001b[0;34m)\u001b[0m\u001b[0;34m,\u001b[0m\u001b[0;36m0\u001b[0m\u001b[0;34m)\u001b[0m\u001b[0;34m\u001b[0m\u001b[0m\n\u001b[0m\u001b[1;32m     14\u001b[0m         \u001b[0mdz\u001b[0m \u001b[0;34m=\u001b[0m \u001b[0ma\u001b[0m \u001b[0;34m-\u001b[0m \u001b[0mtrainLabels\u001b[0m\u001b[0;34m[\u001b[0m\u001b[0;34m:\u001b[0m\u001b[0;34m,\u001b[0m\u001b[0mi\u001b[0m\u001b[0;34m]\u001b[0m\u001b[0;34m[\u001b[0m\u001b[0;34m:\u001b[0m\u001b[0;34m,\u001b[0m\u001b[0mnp\u001b[0m\u001b[0;34m.\u001b[0m\u001b[0mnewaxis\u001b[0m\u001b[0;34m]\u001b[0m\u001b[0;34m\u001b[0m\u001b[0m\n\u001b[1;32m     15\u001b[0m \u001b[0;31m#         print(\"dz\",dz.T)\u001b[0m\u001b[0;34m\u001b[0m\u001b[0;34m\u001b[0m\u001b[0m\n",
      "\u001b[0;32m~/anaconda3/lib/python3.6/site-packages/numpy/core/fromnumeric.py\u001b[0m in \u001b[0;36msum\u001b[0;34m(a, axis, dtype, out, keepdims)\u001b[0m\n\u001b[1;32m   1812\u001b[0m             \u001b[0;32mreturn\u001b[0m \u001b[0msum\u001b[0m\u001b[0;34m(\u001b[0m\u001b[0maxis\u001b[0m\u001b[0;34m=\u001b[0m\u001b[0maxis\u001b[0m\u001b[0;34m,\u001b[0m \u001b[0mdtype\u001b[0m\u001b[0;34m=\u001b[0m\u001b[0mdtype\u001b[0m\u001b[0;34m,\u001b[0m \u001b[0mout\u001b[0m\u001b[0;34m=\u001b[0m\u001b[0mout\u001b[0m\u001b[0;34m,\u001b[0m \u001b[0;34m**\u001b[0m\u001b[0mkwargs\u001b[0m\u001b[0;34m)\u001b[0m\u001b[0;34m\u001b[0m\u001b[0m\n\u001b[1;32m   1813\u001b[0m     return _methods._sum(a, axis=axis, dtype=dtype,\n\u001b[0;32m-> 1814\u001b[0;31m                          out=out, **kwargs)\n\u001b[0m\u001b[1;32m   1815\u001b[0m \u001b[0;34m\u001b[0m\u001b[0m\n\u001b[1;32m   1816\u001b[0m \u001b[0;34m\u001b[0m\u001b[0m\n",
      "\u001b[0;32m~/anaconda3/lib/python3.6/site-packages/numpy/core/_methods.py\u001b[0m in \u001b[0;36m_sum\u001b[0;34m(a, axis, dtype, out, keepdims)\u001b[0m\n\u001b[1;32m     30\u001b[0m \u001b[0;34m\u001b[0m\u001b[0m\n\u001b[1;32m     31\u001b[0m \u001b[0;32mdef\u001b[0m \u001b[0m_sum\u001b[0m\u001b[0;34m(\u001b[0m\u001b[0ma\u001b[0m\u001b[0;34m,\u001b[0m \u001b[0maxis\u001b[0m\u001b[0;34m=\u001b[0m\u001b[0;32mNone\u001b[0m\u001b[0;34m,\u001b[0m \u001b[0mdtype\u001b[0m\u001b[0;34m=\u001b[0m\u001b[0;32mNone\u001b[0m\u001b[0;34m,\u001b[0m \u001b[0mout\u001b[0m\u001b[0;34m=\u001b[0m\u001b[0;32mNone\u001b[0m\u001b[0;34m,\u001b[0m \u001b[0mkeepdims\u001b[0m\u001b[0;34m=\u001b[0m\u001b[0;32mFalse\u001b[0m\u001b[0;34m)\u001b[0m\u001b[0;34m:\u001b[0m\u001b[0;34m\u001b[0m\u001b[0m\n\u001b[0;32m---> 32\u001b[0;31m     \u001b[0;32mreturn\u001b[0m \u001b[0mumr_sum\u001b[0m\u001b[0;34m(\u001b[0m\u001b[0ma\u001b[0m\u001b[0;34m,\u001b[0m \u001b[0maxis\u001b[0m\u001b[0;34m,\u001b[0m \u001b[0mdtype\u001b[0m\u001b[0;34m,\u001b[0m \u001b[0mout\u001b[0m\u001b[0;34m,\u001b[0m \u001b[0mkeepdims\u001b[0m\u001b[0;34m)\u001b[0m\u001b[0;34m\u001b[0m\u001b[0m\n\u001b[0m\u001b[1;32m     33\u001b[0m \u001b[0;34m\u001b[0m\u001b[0m\n\u001b[1;32m     34\u001b[0m \u001b[0;32mdef\u001b[0m \u001b[0m_prod\u001b[0m\u001b[0;34m(\u001b[0m\u001b[0ma\u001b[0m\u001b[0;34m,\u001b[0m \u001b[0maxis\u001b[0m\u001b[0;34m=\u001b[0m\u001b[0;32mNone\u001b[0m\u001b[0;34m,\u001b[0m \u001b[0mdtype\u001b[0m\u001b[0;34m=\u001b[0m\u001b[0;32mNone\u001b[0m\u001b[0;34m,\u001b[0m \u001b[0mout\u001b[0m\u001b[0;34m=\u001b[0m\u001b[0;32mNone\u001b[0m\u001b[0;34m,\u001b[0m \u001b[0mkeepdims\u001b[0m\u001b[0;34m=\u001b[0m\u001b[0;32mFalse\u001b[0m\u001b[0;34m)\u001b[0m\u001b[0;34m:\u001b[0m\u001b[0;34m\u001b[0m\u001b[0m\n",
      "\u001b[0;31mKeyboardInterrupt\u001b[0m: "
     ]
    }
   ],
   "source": [
    "crossEntropyError = 0.0\n",
    "trainImages = prep.normalize(trainImages)\n",
    "W = np.random.randn(trainLabels.shape[0],trainImages.shape[0]) #Weights\n",
    "b = np.random.randn(trainLabels.shape[0],1)\n",
    "dW = np.zeros_like(W)\n",
    "db = np.zeros_like(b)\n",
    "\n",
    "for _ in range(iterations):\n",
    "    crossEntropyError = 0.0\n",
    "    for i in range(m):\n",
    "        z = np.dot(W,trainImages[:,i])[:,np.newaxis] + b\n",
    "        a = softmax(z)\n",
    "        crossEntropyError += -np.sum(np.multiply(trainLabels[:,i],np.log(a)),0)\n",
    "        dz = a - trainLabels[:,i][:,np.newaxis]\n",
    "#         print(\"dz\",dz.T)\n",
    "        dW = dz.dot(trainImages[:,i][:,np.newaxis].T)\n",
    "#         print(\"dw\",dW[:,0])\n",
    "        db = np.sum(dz,1)\n",
    "        W = W - learningRate*dW\n",
    "    #     print(\"W:\",W)\n",
    "        b = b - learningRate*db[:,np.newaxis]\n",
    "    print(\"Error\",np.sum(crossEntropyError))"
   ]
  },
  {
   "cell_type": "code",
   "execution_count": null,
   "metadata": {
    "collapsed": true
   },
   "outputs": [],
   "source": []
  }
 ],
 "metadata": {
  "kernelspec": {
   "display_name": "Python 3",
   "language": "python",
   "name": "python3"
  },
  "language_info": {
   "codemirror_mode": {
    "name": "ipython",
    "version": 3
   },
   "file_extension": ".py",
   "mimetype": "text/x-python",
   "name": "python",
   "nbconvert_exporter": "python",
   "pygments_lexer": "ipython3",
   "version": "3.6.2"
  }
 },
 "nbformat": 4,
 "nbformat_minor": 2
}
