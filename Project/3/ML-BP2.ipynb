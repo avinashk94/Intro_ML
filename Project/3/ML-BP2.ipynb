{
 "cells": [
  {
   "cell_type": "code",
   "execution_count": 1,
   "metadata": {},
   "outputs": [
    {
     "name": "stderr",
     "output_type": "stream",
     "text": [
      "/Users/avinashk94/anaconda3/lib/python3.6/importlib/_bootstrap.py:205: RuntimeWarning: compiletime version 3.5 of module 'tensorflow.python.framework.fast_tensor_util' does not match runtime version 3.6\n",
      "  return f(*args, **kwds)\n"
     ]
    },
    {
     "name": "stdout",
     "output_type": "stream",
     "text": [
      "Extracting MNIST_data/train-images-idx3-ubyte.gz\n",
      "Extracting MNIST_data/train-labels-idx1-ubyte.gz\n",
      "Extracting MNIST_data/t10k-images-idx3-ubyte.gz\n",
      "Extracting MNIST_data/t10k-labels-idx1-ubyte.gz\n"
     ]
    }
   ],
   "source": [
    "import numpy as np\n",
    "# np.seterr(divide='ignore', invalid='ignore')\n",
    "from tensorflow.examples.tutorials.mnist import input_data\n",
    "mnist = input_data.read_data_sets(\"MNIST_data/\", one_hot=True)"
   ]
  },
  {
   "cell_type": "code",
   "execution_count": 2,
   "metadata": {
    "collapsed": true
   },
   "outputs": [],
   "source": [
    "trainImages = mnist.train.images.T\n",
    "testImages = mnist.test.images.T\n",
    "trainLabels = mnist.train.labels.T\n",
    "testLabels = mnist.test.labels.T\n",
    "validationImages = mnist.validation.images.T\n",
    "validationLabels = mnist.validation.labels.T\n",
    "(nFeatures,m) = trainImages.shape\n",
    "\n",
    "meanImg = np.mean(trainImages,1)[:,np.newaxis]\n",
    "trainImages -= meanImg\n",
    "testImages -= meanImg\n",
    "validationImages -= meanImg\n",
    "\n",
    "\n",
    "batchSize = 100\n",
    "printEvery = 5\n",
    "nEpochs = 100\n",
    "nClasses = 10\n",
    "learningRate = 0.00005 #IF used....\n",
    "lambdaa = 0.01\n",
    "nH1 = 512\n",
    "\n",
    "\n",
    "\n"
   ]
  },
  {
   "cell_type": "code",
   "execution_count": 3,
   "metadata": {
    "collapsed": true
   },
   "outputs": [],
   "source": [
    "W1 = np.random.randn(nH1,nFeatures)\n",
    "b1 = np.zeros(nH1)\n",
    "\n",
    "W2 = np.random.randn(nClasses,nH1)\n",
    "b2 = np.zeros(nClasses)\n",
    "\n",
    "\n",
    "\n",
    "# z1 = W1.dot(trainImages) + b1[:,np.newaxis]\n",
    "# a1 = np.maximum(z1,0,z1)\n",
    "\n",
    "# z2 = W2.dot(a1) + b2[:,np.newaxis]\n",
    "# z2 -= np.max(z2)\n",
    "# z2Exp = np.exp(z2)\n",
    "# a2 = np.maximum(z1,0,z1)\n",
    "\n",
    "# loss = -np.sum(np.multiply(trainLabels,(z2-np.sum(z2Exp,0))),0)\n",
    "\n",
    "# dz2 = (z2Exp/np.sum(z2Exp,0))-trainLabels\n",
    "# dW2 = dz2.dot(a1.T)\n",
    "# db2 = np.sum(dz2,1)\n",
    "\n",
    "# da1 = W2.T.dot(dz2)\n",
    "# dz1 = np.zeros_like(da1)\n",
    "# dz1[da1>0] = 1\n",
    "\n",
    "# dW1 = dz1.dot(trainImages.T)\n",
    "# db1 = np.sum(dz1,1)\n",
    "# print(dW1.shape,db1.shape)\n",
    "\n",
    "\n",
    "# z = W.dot(trainImages) + b[:,np.newaxis]\n",
    "# z -= np.max(z)\n",
    "# zExp = np.exp(z)\n",
    "# zExp.shape\n",
    "# print(np.exp(np.max(z)))\n",
    "# print(np.max(zExp))\n",
    "\n",
    "# loss = -np.sum(np.multiply(trainLabels,(z-np.sum(zExp,0))),0)\n",
    "\n",
    "# dz = (zExp/np.sum(zExp,0))-trainLabels\n",
    "# dW = dz.dot(trainImages.T)\n",
    "# db = np.sum(dz,1)\n",
    "# np.max(z).shape\n",
    "\n",
    "# a = zExp/np.sum(zExp,0)\n",
    "# correct = np.sum(np.equal(np.argmax(a,0),np.argmax(trainLabels,0)))\n",
    "# print(np.max(z,0).shape)"
   ]
  },
  {
   "cell_type": "code",
   "execution_count": 4,
   "metadata": {
    "collapsed": true
   },
   "outputs": [],
   "source": [
    "def findOut(x):\n",
    "    z1 = W1.dot(x) + b1[:,np.newaxis]\n",
    "    a1 = np.maximum(z1,0,z1)\n",
    "\n",
    "    z2 = W2.dot(a1) + b2[:,np.newaxis]\n",
    "    z2 -= np.max(z2,0)\n",
    "    z2Exp = np.exp(z2)\n",
    "    a = z2Exp/np.sum(z2Exp,0)\n",
    "#     print(a.shape)\n",
    "    return a"
   ]
  },
  {
   "cell_type": "code",
   "execution_count": null,
   "metadata": {},
   "outputs": [
    {
     "name": "stdout",
     "output_type": "stream",
     "text": [
      "Loss: 8797830.5579 0.112381818182 0.1119 0.1198\n",
      "Loss: 35286123.2748 0.439381818182 0.433 0.4376\n",
      "Loss: 33377170.4902 0.442745454545 0.4466 0.4432\n",
      "Loss: 11542089.7864 0.513563636364 0.5213 0.522\n",
      "Loss: 3314888.26919 0.671036363636 0.6765 0.6718\n",
      "Loss: 1828828.88968 0.731436363636 0.7373 0.7448\n",
      "Loss: 825826.500473 0.763454545455 0.7751 0.7718\n",
      "Loss: 614106.437347 0.740127272727 0.7483 0.752\n",
      "Loss: 503267.908642 0.710090909091 0.7199 0.7138\n",
      "Loss: 441575.586736 0.680181818182 0.6898 0.6854\n"
     ]
    }
   ],
   "source": [
    "for _ in range(nEpochs):\n",
    "    loss = 0.0\n",
    "    #Forward....\n",
    "    z1 = W1.dot(trainImages) + b1[:,np.newaxis]\n",
    "#     a1 = np.maximum(z1,0,z1)\n",
    "    a1 = np.maximum(z1,0)\n",
    "    \n",
    "    z2 = W2.dot(a1) + b2[:,np.newaxis]\n",
    "    z2 -= np.max(z2,0)\n",
    "    z2Exp = np.exp(z2)\n",
    "#     z2Exp[z2Exp<=0] = 1e-10\n",
    "    loss = -np.sum(np.multiply(trainLabels,z2-np.log(np.sum(z2Exp,0))),0) \n",
    "    \n",
    "#     print(np.equal(np.argmax(findOut(testImages),0),np.argmax(testLabels,0)).shape)\n",
    "    correct1 = np.sum(np.equal(np.argmax(findOut(trainImages),0),np.argmax(trainLabels,0)))/m\n",
    "    correct2 = np.sum(np.equal(np.argmax(findOut(testImages),0),np.argmax(testLabels,0)))/testLabels.shape[1]\n",
    "    correct3 = np.sum(np.equal(np.argmax(findOut(validationImages),0),np.argmax(validationLabels,0)))/validationLabels.shape[1]\n",
    "    print('Loss:',np.sum(loss), correct1, correct2, correct3)\n",
    "    \n",
    "    #Backward\n",
    "    dz2 = (z2Exp/np.sum(z2Exp,0))-trainLabels\n",
    "#     print(np.sum(dz2))\n",
    "    dW2 = dz2.dot(a1.T)\n",
    "    db2 = np.sum(dz2,1)\n",
    "\n",
    "    da1 = W2.T.dot(dz2)\n",
    "    dz1 = np.zeros_like(da1)\n",
    "    dz1[da1>0] = 1\n",
    "\n",
    "    dW1 = dz1.dot(trainImages.T)\n",
    "    db1 = np.sum(dz1,1)\n",
    "    \n",
    "    W2 = W2 - learningRate*dW2 - lambdaa*W2\n",
    "    b2 = b2 - learningRate*db2\n",
    "    W1 = W1 - learningRate*dW1 - lambdaa*W1\n",
    "    b1 = b1 - learningRate*db1"
   ]
  },
  {
   "cell_type": "code",
   "execution_count": null,
   "metadata": {
    "collapsed": true
   },
   "outputs": [],
   "source": []
  },
  {
   "cell_type": "code",
   "execution_count": null,
   "metadata": {
    "collapsed": true
   },
   "outputs": [],
   "source": []
  },
  {
   "cell_type": "code",
   "execution_count": null,
   "metadata": {
    "collapsed": true
   },
   "outputs": [],
   "source": []
  },
  {
   "cell_type": "code",
   "execution_count": null,
   "metadata": {
    "collapsed": true
   },
   "outputs": [],
   "source": []
  },
  {
   "cell_type": "code",
   "execution_count": null,
   "metadata": {
    "collapsed": true
   },
   "outputs": [],
   "source": []
  },
  {
   "cell_type": "code",
   "execution_count": null,
   "metadata": {
    "collapsed": true
   },
   "outputs": [],
   "source": []
  },
  {
   "cell_type": "code",
   "execution_count": null,
   "metadata": {
    "collapsed": true
   },
   "outputs": [],
   "source": []
  },
  {
   "cell_type": "code",
   "execution_count": null,
   "metadata": {
    "collapsed": true
   },
   "outputs": [],
   "source": []
  },
  {
   "cell_type": "code",
   "execution_count": null,
   "metadata": {
    "collapsed": true
   },
   "outputs": [],
   "source": []
  },
  {
   "cell_type": "code",
   "execution_count": null,
   "metadata": {
    "collapsed": true
   },
   "outputs": [],
   "source": []
  },
  {
   "cell_type": "code",
   "execution_count": null,
   "metadata": {
    "collapsed": true
   },
   "outputs": [],
   "source": []
  },
  {
   "cell_type": "code",
   "execution_count": null,
   "metadata": {
    "collapsed": true
   },
   "outputs": [],
   "source": []
  },
  {
   "cell_type": "code",
   "execution_count": null,
   "metadata": {
    "collapsed": true
   },
   "outputs": [],
   "source": []
  },
  {
   "cell_type": "code",
   "execution_count": null,
   "metadata": {
    "collapsed": true
   },
   "outputs": [],
   "source": []
  },
  {
   "cell_type": "code",
   "execution_count": null,
   "metadata": {
    "collapsed": true
   },
   "outputs": [],
   "source": []
  },
  {
   "cell_type": "code",
   "execution_count": null,
   "metadata": {
    "collapsed": true
   },
   "outputs": [],
   "source": []
  },
  {
   "cell_type": "code",
   "execution_count": null,
   "metadata": {
    "collapsed": true
   },
   "outputs": [],
   "source": []
  },
  {
   "cell_type": "code",
   "execution_count": null,
   "metadata": {
    "collapsed": true
   },
   "outputs": [],
   "source": []
  },
  {
   "cell_type": "code",
   "execution_count": null,
   "metadata": {
    "collapsed": true
   },
   "outputs": [],
   "source": []
  },
  {
   "cell_type": "code",
   "execution_count": null,
   "metadata": {
    "collapsed": true
   },
   "outputs": [],
   "source": []
  },
  {
   "cell_type": "code",
   "execution_count": null,
   "metadata": {
    "collapsed": true
   },
   "outputs": [],
   "source": []
  },
  {
   "cell_type": "code",
   "execution_count": null,
   "metadata": {
    "collapsed": true
   },
   "outputs": [],
   "source": []
  },
  {
   "cell_type": "code",
   "execution_count": null,
   "metadata": {
    "collapsed": true
   },
   "outputs": [],
   "source": []
  },
  {
   "cell_type": "code",
   "execution_count": null,
   "metadata": {
    "collapsed": true
   },
   "outputs": [],
   "source": []
  },
  {
   "cell_type": "code",
   "execution_count": null,
   "metadata": {
    "collapsed": true
   },
   "outputs": [],
   "source": []
  },
  {
   "cell_type": "code",
   "execution_count": null,
   "metadata": {
    "collapsed": true
   },
   "outputs": [],
   "source": []
  },
  {
   "cell_type": "code",
   "execution_count": null,
   "metadata": {
    "collapsed": true
   },
   "outputs": [],
   "source": []
  },
  {
   "cell_type": "code",
   "execution_count": null,
   "metadata": {
    "collapsed": true
   },
   "outputs": [],
   "source": []
  },
  {
   "cell_type": "code",
   "execution_count": null,
   "metadata": {
    "collapsed": true
   },
   "outputs": [],
   "source": []
  },
  {
   "cell_type": "code",
   "execution_count": null,
   "metadata": {
    "collapsed": true
   },
   "outputs": [],
   "source": []
  },
  {
   "cell_type": "code",
   "execution_count": null,
   "metadata": {
    "collapsed": true
   },
   "outputs": [],
   "source": []
  },
  {
   "cell_type": "code",
   "execution_count": null,
   "metadata": {
    "collapsed": true
   },
   "outputs": [],
   "source": []
  },
  {
   "cell_type": "code",
   "execution_count": null,
   "metadata": {
    "collapsed": true
   },
   "outputs": [],
   "source": []
  },
  {
   "cell_type": "code",
   "execution_count": null,
   "metadata": {
    "collapsed": true
   },
   "outputs": [],
   "source": []
  },
  {
   "cell_type": "code",
   "execution_count": null,
   "metadata": {
    "collapsed": true
   },
   "outputs": [],
   "source": []
  },
  {
   "cell_type": "code",
   "execution_count": null,
   "metadata": {
    "collapsed": true
   },
   "outputs": [],
   "source": []
  },
  {
   "cell_type": "code",
   "execution_count": null,
   "metadata": {
    "collapsed": true
   },
   "outputs": [],
   "source": []
  },
  {
   "cell_type": "code",
   "execution_count": null,
   "metadata": {
    "collapsed": true
   },
   "outputs": [],
   "source": []
  }
 ],
 "metadata": {
  "kernelspec": {
   "display_name": "Python 3",
   "language": "python",
   "name": "python3"
  },
  "language_info": {
   "codemirror_mode": {
    "name": "ipython",
    "version": 3
   },
   "file_extension": ".py",
   "mimetype": "text/x-python",
   "name": "python",
   "nbconvert_exporter": "python",
   "pygments_lexer": "ipython3",
   "version": "3.6.2"
  }
 },
 "nbformat": 4,
 "nbformat_minor": 2
}
