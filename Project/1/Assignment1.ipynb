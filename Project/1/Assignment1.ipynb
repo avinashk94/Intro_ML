{
 "cells": [
  {
   "cell_type": "code",
   "execution_count": 1,
   "metadata": {
    "collapsed": true
   },
   "outputs": [],
   "source": [
    "import random\n",
    "import numpy as np\n",
    "import pandas as pd\n",
    "from scipy.stats import multivariate_normal\n",
    "import matplotlib.pyplot as plt\n",
    "\n",
    "df = pd.read_excel('DataSet/university data.xlsx')"
   ]
  },
  {
   "cell_type": "code",
   "execution_count": 2,
   "metadata": {},
   "outputs": [
    {
     "name": "stdout",
     "output_type": "stream",
     "text": [
      "Index(['CS Score (USNews)', 'Research Overhead %', 'Admin Base Pay$',\n",
      "       'Tuition(out-state)$'],\n",
      "      dtype='object')\n"
     ]
    }
   ],
   "source": [
    "FORMAT = ['CS Score (USNews)', 'Research Overhead %', 'Admin Base Pay$', 'Tuition(out-state)$']\n",
    "df = df[FORMAT]\n",
    "print(df.columns)"
   ]
  },
  {
   "cell_type": "code",
   "execution_count": 3,
   "metadata": {},
   "outputs": [
    {
     "name": "stdout",
     "output_type": "stream",
     "text": [
      "49 157.5 3.2142857142857144\n"
     ]
    }
   ],
   "source": [
    "print(df['CS Score (USNews)'].count(), df['CS Score (USNews)'].sum(), df['CS Score (USNews)'].mean())"
   ]
  },
  {
   "cell_type": "code",
   "execution_count": 4,
   "metadata": {},
   "outputs": [
    {
     "data": {
      "text/plain": [
       "CS Score (USNews)      49\n",
       "Research Overhead %    49\n",
       "Admin Base Pay$        49\n",
       "Tuition(out-state)$    49\n",
       "dtype: int64"
      ]
     },
     "execution_count": 4,
     "metadata": {},
     "output_type": "execute_result"
    }
   ],
   "source": [
    "df.count()"
   ]
  },
  {
   "cell_type": "code",
   "execution_count": 5,
   "metadata": {},
   "outputs": [
    {
     "name": "stdout",
     "output_type": "stream",
     "text": [
      "mu0 3.214\n",
      "mu1 53.386\n",
      "mu2 469178.816\n",
      "mu3 29711.959\n"
     ]
    }
   ],
   "source": [
    "mu = df.sum()/df.count()\n",
    "for i in range(mu.size):\n",
    "    print('mu{} {:.3f}'.format(i,mu[i]))"
   ]
  },
  {
   "cell_type": "code",
   "execution_count": 6,
   "metadata": {},
   "outputs": [
    {
     "data": {
      "text/plain": [
       "array([[ nan,  nan],\n",
       "       [ nan,  nan]])"
      ]
     },
     "execution_count": 6,
     "metadata": {},
     "output_type": "execute_result"
    }
   ],
   "source": [
    "np.cov(df['Admin Base Pay$'],df['Research Overhead %'])"
   ]
  },
  {
   "cell_type": "code",
   "execution_count": null,
   "metadata": {
    "collapsed": true
   },
   "outputs": [],
   "source": []
  },
  {
   "cell_type": "code",
   "execution_count": 8,
   "metadata": {
    "collapsed": true
   },
   "outputs": [],
   "source": [
    "X = np.vstack((df['CS Score (USNews)'], df['Research Overhead %']))\n",
    "X = np.delete(X,-1,1)"
   ]
  },
  {
   "cell_type": "code",
   "execution_count": 9,
   "metadata": {},
   "outputs": [
    {
     "data": {
      "text/plain": [
       "array([[  0.4575    ,   1.105625  ],\n",
       "       [  1.105625  ,  12.85041667]])"
      ]
     },
     "execution_count": 9,
     "metadata": {},
     "output_type": "execute_result"
    }
   ],
   "source": [
    "np.cov(X)"
   ]
  },
  {
   "cell_type": "code",
   "execution_count": 10,
   "metadata": {
    "collapsed": true
   },
   "outputs": [],
   "source": [
    "Y = np.vstack((df['CS Score (USNews)'], df['Research Overhead %'], df['Admin Base Pay$'], df['Tuition(out-state)$']))\n",
    "Y = np.delete(Y,-1,1)"
   ]
  },
  {
   "cell_type": "code",
   "execution_count": 11,
   "metadata": {},
   "outputs": [
    {
     "data": {
      "text/html": [
       "<div>\n",
       "<style>\n",
       "    .dataframe thead tr:only-child th {\n",
       "        text-align: right;\n",
       "    }\n",
       "\n",
       "    .dataframe thead th {\n",
       "        text-align: left;\n",
       "    }\n",
       "\n",
       "    .dataframe tbody tr th {\n",
       "        vertical-align: top;\n",
       "    }\n",
       "</style>\n",
       "<table border=\"1\" class=\"dataframe\">\n",
       "  <thead>\n",
       "    <tr style=\"text-align: right;\">\n",
       "      <th></th>\n",
       "      <th>CS Score (USNews)</th>\n",
       "      <th>Research Overhead %</th>\n",
       "      <th>Admin Base Pay$</th>\n",
       "      <th>Tuition(out-state)$</th>\n",
       "    </tr>\n",
       "  </thead>\n",
       "  <tbody>\n",
       "    <tr>\n",
       "      <th>CS Score (USNews)</th>\n",
       "      <td>0.457500</td>\n",
       "      <td>1.105625</td>\n",
       "      <td>3.879782e+03</td>\n",
       "      <td>1.058480e+03</td>\n",
       "    </tr>\n",
       "    <tr>\n",
       "      <th>Research Overhead %</th>\n",
       "      <td>1.105625</td>\n",
       "      <td>12.850417</td>\n",
       "      <td>7.027938e+04</td>\n",
       "      <td>2.805789e+03</td>\n",
       "    </tr>\n",
       "    <tr>\n",
       "      <th>Admin Base Pay$</th>\n",
       "      <td>3879.781845</td>\n",
       "      <td>70279.376488</td>\n",
       "      <td>1.418972e+10</td>\n",
       "      <td>-1.636856e+08</td>\n",
       "    </tr>\n",
       "    <tr>\n",
       "      <th>Tuition(out-state)$</th>\n",
       "      <td>1058.479762</td>\n",
       "      <td>2805.788988</td>\n",
       "      <td>-1.636856e+08</td>\n",
       "      <td>3.136770e+07</td>\n",
       "    </tr>\n",
       "  </tbody>\n",
       "</table>\n",
       "</div>"
      ],
      "text/plain": [
       "                     CS Score (USNews)  Research Overhead %  Admin Base Pay$  \\\n",
       "CS Score (USNews)             0.457500             1.105625     3.879782e+03   \n",
       "Research Overhead %           1.105625            12.850417     7.027938e+04   \n",
       "Admin Base Pay$            3879.781845         70279.376488     1.418972e+10   \n",
       "Tuition(out-state)$        1058.479762          2805.788988    -1.636856e+08   \n",
       "\n",
       "                     Tuition(out-state)$  \n",
       "CS Score (USNews)           1.058480e+03  \n",
       "Research Overhead %         2.805789e+03  \n",
       "Admin Base Pay$            -1.636856e+08  \n",
       "Tuition(out-state)$         3.136770e+07  "
      ]
     },
     "execution_count": 11,
     "metadata": {},
     "output_type": "execute_result"
    }
   ],
   "source": [
    "df.cov()"
   ]
  },
  {
   "cell_type": "code",
   "execution_count": 12,
   "metadata": {},
   "outputs": [
    {
     "name": "stdout",
     "output_type": "stream",
     "text": [
      "\n",
      "Means\n",
      "mu1 3.214\n",
      "mu2 53.386\n",
      "mu3 469178.816\n",
      "mu4 29711.959\n",
      "mu1 3.214\n",
      "mu2 53.386\n",
      "mu3 469178.816\n",
      "mu4 29711.959\n",
      "\n",
      "Variance\n",
      "var1 0.457\n",
      "var2 12.850\n",
      "var3 14189720820.903\n",
      "var4 31367695.790\n",
      "\n",
      "Variance using Unbiased Estimator\n",
      "var1 0.448\n",
      "var2 12.588\n",
      "var3 13900134681.701\n",
      "var4 30727538.733\n",
      "\n",
      "Standard Deviation\n",
      "sigma1 0.676\n",
      "sigma2 3.585\n",
      "sigma3 119120.615\n",
      "sigma4 5600.687\n",
      "\n",
      "Standard Deviation using Unbiased Estimator\n",
      "sigma1 0.669\n",
      "sigma2 3.548\n",
      "sigma3 117898.832\n",
      "sigma4 5543.243\n",
      "CovarianceMat:\n",
      "[[0.457 1.106 3879.782 1058.480]\n",
      " [1.106 12.850 70279.376 2805.789]\n",
      " [3879.782 70279.376 14189720820.903 -163685641.258]\n",
      " [1058.480 2805.789 -163685641.258 31367695.790]]\n",
      "correlationMat:\n",
      "[[1.000 0.456 0.048 0.279]\n",
      " [0.456 1.000 0.165 0.140]\n",
      " [0.048 0.165 1.000 -0.245]\n",
      " [0.279 0.140 -0.245 1.000]]\n"
     ]
    }
   ],
   "source": [
    "print('\\nMeans')\n",
    "mu = df.sum()/df.count()\n",
    "for i in range(mu.size):\n",
    "    print('mu{} {:.3f}'.format(i+1,mu[i]))\n",
    "    \n",
    "mu2 = np.mean(df)\n",
    "for i in range(mu.size):\n",
    "    print('mu{} {:.3f}'.format(i+1,mu[i]))\n",
    "\n",
    "print('\\nVariance')\n",
    "var = df.var()\n",
    "for i in range(var.size):\n",
    "    print('var{} {:.3f}'.format(i+1,var[i]))\n",
    "\n",
    "print('\\nVariance using Unbiased Estimator')\n",
    "var2 = np.var(df)\n",
    "for i in range(var2.size):\n",
    "    print('var{} {:.3f}'.format(i+1,var2[i]))\n",
    "\n",
    "print('\\nStandard Deviation')\n",
    "std = df.std()\n",
    "for i in range(std.size):\n",
    "    print('sigma{} {:.3f}'.format(i+1,std[i]))\n",
    "\n",
    "print('\\nStandard Deviation using Unbiased Estimator')\n",
    "std2 = np.std(df)\n",
    "for i in range(std2.size):\n",
    "    print('sigma{} {:.3f}'.format(i+1,std2[i]))\n",
    "\n",
    "Y = np.vstack((df['CS Score (USNews)'], df['Research Overhead %'], df['Admin Base Pay$'], df['Tuition(out-state)$']))\n",
    "Y = np.delete(Y,-1,1)\n",
    "covarianceMat = np.cov(Y)\n",
    "np.set_printoptions(formatter={'float': lambda x: \"{:0.3f}\".format(x)})\n",
    "# np.set_printoptions(precision=3,suppress=True)\n",
    "print('CovarianceMat:\\n{}'.format(np.round(covarianceMat,decimals=3)))\n",
    "correlationMat = np.corrcoef(Y)\n",
    "print('correlationMat:\\n{}'.format(correlationMat))"
   ]
  },
  {
   "cell_type": "code",
   "execution_count": 13,
   "metadata": {},
   "outputs": [
    {
     "data": {
      "text/plain": [
       "array([[1.000, 0.456, 0.048, 0.279],\n",
       "       [0.456, 1.000, 0.165, 0.140],\n",
       "       [0.048, 0.165, 1.000, -0.245],\n",
       "       [0.279, 0.140, -0.245, 1.000]])"
      ]
     },
     "execution_count": 13,
     "metadata": {},
     "output_type": "execute_result"
    }
   ],
   "source": [
    "np.corrcoef(Y)"
   ]
  },
  {
   "cell_type": "code",
   "execution_count": 14,
   "metadata": {
    "collapsed": true
   },
   "outputs": [],
   "source": [
    "X1 = df['CS Score (USNews)']"
   ]
  },
  {
   "cell_type": "code",
   "execution_count": 18,
   "metadata": {},
   "outputs": [
    {
     "data": {
      "text/plain": [
       "-1315.098792560739"
      ]
     },
     "execution_count": 18,
     "metadata": {},
     "output_type": "execute_result"
    }
   ],
   "source": [
    "loglike[0] = -(49/2)*np.log(2*np.pi*var2[0]) - (1/(2*var2[0]))*np.sum((Y[0,:]-mu[0])**2)\n",
    "loglike[1] = -(49/2)*np.log(2*np.pi*var2[1]) - (1/(2*var2[1]))*np.sum((Y[1,:]-mu[1])**2)\n",
    "loglike[2] = -(49/2)*np.log(2*np.pi*var2[2]) - (1/(2*var2[2]))*np.sum((Y[2,:]-mu[2])**2)\n",
    "loglike[3] =  -(49/2)*np.log(2*np.pi*var2[3]) - (1/(2*var2[3]))*np.sum((Y[3,:]-mu[3])**2)\n",
    "\n",
    "np.sum(loglike)"
   ]
  },
  {
   "cell_type": "code",
   "execution_count": 19,
   "metadata": {},
   "outputs": [
    {
     "data": {
      "text/plain": [
       "-1315.098792560739"
      ]
     },
     "execution_count": 19,
     "metadata": {},
     "output_type": "execute_result"
    }
   ],
   "source": [
    "loglike =  -(49/2)*np.log(2*np.pi*var2) - (0.5/var2)*np.sum((Y-mu2[:,np.newaxis])**2,axis=1)\n",
    "np.sum(loglike)"
   ]
  },
  {
   "cell_type": "code",
   "execution_count": 22,
   "metadata": {
    "collapsed": true
   },
   "outputs": [],
   "source": [
    "loglike[0] = -np.sum((Y[0,:]-mu[0])**2)\n",
    "loglike[1] = -np.sum((Y[1,:]-mu[1])**2)\n",
    "loglike[2] = -np.sum((Y[2,:]-mu[2])**2)\n",
    "loglike[3] = - (1/(2*var[3]))*np.sum((Y[3,:]-mu[3])**2)"
   ]
  },
  {
   "cell_type": "code",
   "execution_count": 23,
   "metadata": {},
   "outputs": [
    {
     "data": {
      "text/plain": [
       "array([-21.960, -616.820, -681106599403.347, -1505649397.918])"
      ]
     },
     "execution_count": 23,
     "metadata": {},
     "output_type": "execute_result"
    }
   ],
   "source": [
    "loglike = - np.sum((Y-mu2[:,np.newaxis])**2,axis=1)\n",
    "loglike"
   ]
  },
  {
   "cell_type": "code",
   "execution_count": 26,
   "metadata": {},
   "outputs": [
    {
     "data": {
      "text/plain": [
       "-1262.3272000613699"
      ]
     },
     "execution_count": 26,
     "metadata": {},
     "output_type": "execute_result"
    }
   ],
   "source": [
    "var = multivariate_normal.logpdf(Y.T, mu, cov = covarianceMat,allow_singular = True)\n",
    "var = sum(var)\n",
    "var"
   ]
  },
  {
   "cell_type": "code",
   "execution_count": 82,
   "metadata": {},
   "outputs": [
    {
     "data": {
      "image/png": "[encoded data removed]",
      "text/plain": [
       "<matplotlib.figure.Figure at 0x11397bd30>"
      ]
     },
     "metadata": {},
     "output_type": "display_data"
    }
   ],
   "source": [
    "plt.plot(Y[2,:], Y[3,:], 'ro')\n",
    "plt.ylabel(FORMAT[2])\n",
    "plt.xlabel(FORMAT[3])\n",
    "fit = np.polyfit(Y[2,:], Y[3,:],1)\n",
    "fit_fn = np.poly1d(fit)\n",
    "plt.plot( Y[2,:], fit_fn(Y[2,:]), '-k')\n",
    "plt.show()"
   ]
  },
  {
   "cell_type": "code",
   "execution_count": null,
   "metadata": {
    "collapsed": true
   },
   "outputs": [],
   "source": []
  },
  {
   "cell_type": "code",
   "execution_count": 38,
   "metadata": {},
   "outputs": [
    {
     "data": {
      "text/plain": [
       "array([5.000, 4.600, 4.500, 4.300, 4.300, 4.200, 4.100, 4.100, 4.000,\n",
       "       4.000, 3.700, 3.600, 3.600, 3.400, 3.400, 3.400, 3.400, 3.300,\n",
       "       3.300, 3.300, 3.300, 3.100, 3.100, 3.100, 3.100, 3.100, 3.100,\n",
       "       3.000, 3.000, 3.000, 2.900, 2.900, 2.800, 2.800, 2.800, 2.700,\n",
       "       2.600, 2.600, 2.600, 2.600, 2.500, 2.500, 2.400, 2.400, 2.400,\n",
       "       2.400, 2.400, 2.400, 2.400])"
      ]
     },
     "execution_count": 38,
     "metadata": {},
     "output_type": "execute_result"
    }
   ],
   "source": [
    "Y[0,:]"
   ]
  },
  {
   "cell_type": "code",
   "execution_count": 42,
   "metadata": {},
   "outputs": [
    {
     "data": {
      "text/plain": [
       "array([57.000, 58.600, 54.500, 55.900, 55.000, 53.000, 54.000, 55.000,\n",
       "       55.000, 52.000, 55.000, 59.000, 52.000, 54.500, 54.500, 52.000,\n",
       "       58.000, 54.000, 55.000, 57.000, 53.500, 58.000, 48.500, 53.000,\n",
       "       53.500, 49.000, 61.000, 54.500, 51.500, 50.000, 56.000, 54.000,\n",
       "       53.500, 54.000, 53.500, 59.800, 50.000, 59.500, 51.000, 45.000,\n",
       "       49.900, 46.000, 47.000, 48.700, 50.500, 51.000, 49.000, 53.000,\n",
       "       51.000])"
      ]
     },
     "execution_count": 42,
     "metadata": {},
     "output_type": "execute_result"
    }
   ],
   "source": [
    "Y[1,:]"
   ]
  },
  {
   "cell_type": "code",
   "execution_count": 44,
   "metadata": {},
   "outputs": [
    {
     "data": {
      "text/plain": [
       "array([25.991, 26.721, 24.851, 25.490, 25.079, 24.167, 24.623, 25.079,\n",
       "       25.079, 23.711, 25.079, 26.903, 23.711, 24.851, 24.851, 23.711,\n",
       "       26.447, 24.623, 25.079, 25.991, 24.395, 26.447, 22.115, 24.167,\n",
       "       24.395, 22.343, 27.815, 24.851, 23.483, 22.799, 25.535, 24.623,\n",
       "       24.395, 24.623, 24.395, 27.268, 22.799, 27.131, 23.255, 20.519,\n",
       "       22.754, 20.975, 21.431, 22.207, 23.027, 23.255, 22.343, 24.167,\n",
       "       23.255])"
      ]
     },
     "execution_count": 44,
     "metadata": {},
     "output_type": "execute_result"
    }
   ],
   "source": [
    "Y[1,:]*correlationMat[0,1]"
   ]
  },
  {
   "cell_type": "code",
   "execution_count": 52,
   "metadata": {},
   "outputs": [
    {
     "data": {
      "image/png": "[encoded data removed]",
      "text/plain": [
       "<matplotlib.figure.Figure at 0x1141296a0>"
      ]
     },
     "metadata": {},
     "output_type": "display_data"
    }
   ],
   "source": [
    "plt.matshow(correlationMat)\n",
    "plt.show()"
   ]
  },
  {
   "cell_type": "code",
   "execution_count": 85,
   "metadata": {},
   "outputs": [
    {
     "data": {
      "image/png": "[encoded data removed]",
      "text/plain": [
       "<matplotlib.figure.Figure at 0x11418cb38>"
      ]
     },
     "metadata": {},
     "output_type": "display_data"
    }
   ],
   "source": [
    "fig = plt.figure()\n",
    "ax = fig.add_subplot(111)\n",
    "cax = ax.matshow(correlationMat, vmin=-1, vmax=1)\n",
    "fig.colorbar(cax)\n",
    "# ticks = np.arange(0,4,1)\n",
    "# ax.set_xticks(ticks)\n",
    "# ax.set_yticks(ticks)\n",
    "# ax.set_xticklabels(FORMAT)\n",
    "# ax.set_yticklabels(FORMAT)\n",
    "plt.show()"
   ]
  },
  {
   "cell_type": "code",
   "execution_count": null,
   "metadata": {
    "collapsed": true
   },
   "outputs": [],
   "source": []
  }
 ],
 "metadata": {
  "kernelspec": {
   "display_name": "Python 3",
   "language": "python",
   "name": "python3"
  },
  "language_info": {
   "codemirror_mode": {
    "name": "ipython",
    "version": 3
   },
   "file_extension": ".py",
   "mimetype": "text/x-python",
   "name": "python",
   "nbconvert_exporter": "python",
   "pygments_lexer": "ipython3",
   "version": "3.6.2"
  }
 },
 "nbformat": 4,
 "nbformat_minor": 2
}
