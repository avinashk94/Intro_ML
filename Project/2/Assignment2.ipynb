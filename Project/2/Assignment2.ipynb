{
 "cells": [
  {
   "cell_type": "code",
   "execution_count": 1,
   "metadata": {
    "collapsed": true
   },
   "outputs": [],
   "source": [
    "import random\n",
    "import numpy as np\n",
    "import pandas as pd\n",
    "from scipy.stats import multivariate_normal\n",
    "import matplotlib.pyplot as plt\n",
    "from sklearn import preprocessing, cluster, model_selection, metrics"
   ]
  },
  {
   "cell_type": "code",
   "execution_count": 2,
   "metadata": {
    "collapsed": true
   },
   "outputs": [],
   "source": [
    "synInputData = pd.read_csv('input.csv',header=None).values\n",
    "synOutputData = pd.read_csv('output.csv',header=None).values\n",
    "letorInputData = pd.read_csv('Querylevelnorm_X.csv',header=None).values\n",
    "letorOutputData = pd.read_csv('Querylevelnorm_t.csv',header=None).values\n",
    "\n",
    "\n",
    "# print(synInputData.shape)\n",
    "# print(synOutputData.shape)\n",
    "# print(letorInputData.shape)\n",
    "# print(letorOutputData.shape)"
   ]
  },
  {
   "cell_type": "code",
   "execution_count": 69,
   "metadata": {
    "collapsed": true
   },
   "outputs": [],
   "source": [
    "X_train, X_test, y_train, y_test = model_selection.train_test_split(synInputData, synOutputData, test_size=0.20, shuffle=False)\n",
    "X_validate, X_test, y_validate, y_test = model_selection.train_test_split(X_test, y_test, test_size=0.50, shuffle=False)"
   ]
  },
  {
   "cell_type": "code",
   "execution_count": 4,
   "metadata": {
    "collapsed": true
   },
   "outputs": [],
   "source": [
    "X_train, X_test, y_train, y_test = model_selection.train_test_split(letorInputData, letorOutputData, test_size=0.20, shuffle=False)\n",
    "X_validate, X_test, y_validate, y_test = model_selection.train_test_split(X_test, y_test, test_size=0.50, shuffle=False)"
   ]
  },
  {
   "cell_type": "code",
   "execution_count": 42,
   "metadata": {
    "collapsed": true
   },
   "outputs": [],
   "source": [
    "def compute_design_matrix(X_train, k_clusters):\n",
    "    \n",
    "    N,D = X_train.shape\n",
    "    kmeans = cluster.KMeans(k_clusters).fit(X_train)\n",
    "    centers = kmeans.cluster_centers_\n",
    "    centers = centers[:,np.newaxis,:]\n",
    "    spreads = []\n",
    "#     covM = np.cov(X_train.T)\n",
    "    covM = np.identity(D)\n",
    "    for _ in range(0,k_clusters): spreads.append(covM)\n",
    "    spreads = np.array(spreads)\n",
    "    X = X_train[np.newaxis,:,:]\n",
    "    \n",
    "    basis_func_outputs = np.exp(np. sum(np.matmul(X - centers, spreads) * (X - centers), axis=2) / (-2) ).T\n",
    "    return np.insert(basis_func_outputs, 0, 1, axis=1)"
   ]
  },
  {
   "cell_type": "code",
   "execution_count": 43,
   "metadata": {
    "collapsed": true
   },
   "outputs": [],
   "source": [
    "def closed_form_solution(l2_lamda, designMatrix, outValues):\n",
    "    weights = np.dot(np.dot(np.linalg.inv(np.dot(designMatrix.T,designMatrix)),designMatrix.T),outValues)\n",
    "    return weights"
   ]
  },
  {
   "cell_type": "code",
   "execution_count": 44,
   "metadata": {
    "collapsed": true
   },
   "outputs": [],
   "source": [
    "def SGD(learningRate, l2_lamda, designMatrix, outValues, miniBatchSize, numEpochs,k_clusters):\n",
    "    N=designMatrix.shape[0]\n",
    "    weights = np.zeros([1, k_clusters+1])\n",
    "    for epoch in range(numEpochs):\n",
    "        for i in range(int(N / miniBatchSize)):\n",
    "            lower_bound = i * miniBatchSize\n",
    "            upper_bound = min((i+1)*miniBatchSize, N)\n",
    "            Phi = designMatrix[lower_bound : upper_bound, :]\n",
    "            t = outValues[lower_bound : upper_bound, :]\n",
    "            E_D = np.matmul((np.matmul(Phi, weights.T)-t).T,Phi )\n",
    "            E = (E_D + l2_lamda * weights) / miniBatchSize\n",
    "            weights = weights - learningRate * E\n",
    "    return weights.flatten()\n",
    "    "
   ]
  },
  {
   "cell_type": "code",
   "execution_count": 45,
   "metadata": {
    "collapsed": true
   },
   "outputs": [],
   "source": [
    "def rms_error(weights, designMatrix, Y, l2_lamda):\n",
    "    y_calc = np.dot(designMatrix,weights)\n",
    "#     print(y_calc.shape)\n",
    "    E_D_W = 0.5*metrics.mean_squared_error(Y,y_calc)*designMatrix.shape[0]\n",
    "    E_W_W = 0.5*np.dot(weights.T,weights)\n",
    "    E_W = E_D_W + l2_lamda*E_W_W\n",
    "    train_error = np.sqrt(2*E_W/designMatrix.shape[0])\n",
    "#     print(train_error.shape)\n",
    "    return train_error"
   ]
  },
  {
   "cell_type": "code",
   "execution_count": null,
   "metadata": {
    "collapsed": true
   },
   "outputs": [],
   "source": []
  },
  {
   "cell_type": "code",
   "execution_count": 20,
   "metadata": {
    "collapsed": true
   },
   "outputs": [],
   "source": [
    "k_cluster = 16"
   ]
  },
  {
   "cell_type": "code",
   "execution_count": 18,
   "metadata": {},
   "outputs": [
    {
     "name": "stdout",
     "output_type": "stream",
     "text": [
      "Training error: [[ 0.54869675]]\n",
      "Test error (Validation set): [[ 1.71304706]]\n",
      "Test error (test set): [[ 5.62787587]]\n"
     ]
    }
   ],
   "source": [
    "#Hyper-parameter tuning\n",
    "l2_lamda = 0.9\n",
    "\n",
    "\n",
    "designMatrix = compute_design_matrix(X_train,k_cluster)\n",
    "weights_train0 = closed_form_solution(l2_lamda, designMatrix, y_train)\n",
    "train_error0 = rms_error(weights_train0,designMatrix,y_train,l2_lamda)\n",
    "print(\"Training error:\",train_error0)\n",
    "\n",
    "designMatrix2 = compute_design_matrix(X_validate,k_cluster)\n",
    "train_error2 = rms_error(weights_train0,designMatrix2,y_validate,l2_lamda)\n",
    "print(\"Test error (Validation set):\",train_error2)\n",
    "\n",
    "\n",
    "#Test error\n",
    "designMatrix3 = compute_design_matrix(X_test,k_cluster)\n",
    "train_error3 = rms_error(weights_train0,designMatrix3,y_test,l2_lamda)\n",
    "print(\"Test error (test set):\",train_error3)"
   ]
  },
  {
   "cell_type": "code",
   "execution_count": 19,
   "metadata": {},
   "outputs": [
    {
     "name": "stdout",
     "output_type": "stream",
     "text": [
      "Training error: 0.557899017515\n",
      "Test error (Validation set): 0.556575941747\n",
      "Test error (test set): 0.641825907726\n"
     ]
    }
   ],
   "source": [
    "#Hyper-parameter tuning\n",
    "l2_lamda = 0.9\n",
    "learning_rate = 0.001\n",
    "\n",
    "designMatrix = compute_design_matrix(X_train,k_cluster)\n",
    "weights_train0 = SGD(learning_rate, l2_lamda, designMatrix,y_train, designMatrix.shape[0],5000,k_cluster)\n",
    "train_error0 = rms_error(weights_train0,designMatrix,y_train,l2_lamda)\n",
    "print(\"Training error:\",train_error0)\n",
    "\n",
    "designMatrix2 = compute_design_matrix(X_validate,k_cluster)\n",
    "train_error2 = rms_error(weights_train0,designMatrix2,y_validate, l2_lamda)\n",
    "print(\"Test error (Validation set):\",train_error2)\n",
    "\n",
    "#Test error\n",
    "designMatrix3 = compute_design_matrix(X_test,k_cluster)\n",
    "train_error3 = rms_error(weights_train0,designMatrix3,y_test, l2_lamda)\n",
    "print(\"Test error (test set):\",train_error3)"
   ]
  },
  {
   "cell_type": "code",
   "execution_count": null,
   "metadata": {
    "collapsed": true
   },
   "outputs": [],
   "source": []
  },
  {
   "cell_type": "code",
   "execution_count": null,
   "metadata": {
    "collapsed": true
   },
   "outputs": [],
   "source": []
  },
  {
   "cell_type": "code",
   "execution_count": null,
   "metadata": {
    "collapsed": true
   },
   "outputs": [],
   "source": [
    "#Test error\n",
    "designMatrix = compute_design_matrix(X_validate,16)\n",
    "# weights_train2 = closed_form_solution(0.1, designMatrix, y_test)\n",
    "# weights_train3 = SGD(0.01, 0.1, designMatrix,y_test, designMatrix.shape[0],100,16)\n",
    "train_error2 = rms_error(weights_train0,designMatrix,y_validate)\n",
    "print(train_error2)\n",
    "# train_error3 = rms_error(weights_train3,designMatrix,y_test)\n",
    "# print(train_error3)"
   ]
  },
  {
   "cell_type": "code",
   "execution_count": null,
   "metadata": {
    "collapsed": true
   },
   "outputs": [],
   "source": [
    "train_error0 = rms_error(weights_train0,designMatrix,y_train)\n",
    "print(train_error0)\n",
    "# train_error1 = rms_error(weights_train1,designMatrix,y_train)\n",
    "# print(train_error1)"
   ]
  },
  {
   "cell_type": "code",
   "execution_count": null,
   "metadata": {
    "collapsed": true
   },
   "outputs": [],
   "source": [
    "designMatrix = compute_design_matrix(X_train,16)\n",
    "\n",
    "weights_train0 = closed_form_solution(0.5, designMatrix, y_train)\n",
    "\n",
    "# weights_train1 = SGD(0.01, 0.1, designMatrix,y_train, designMatrix.shape[0],100000,16)\n",
    "# weights_train1 = SGD(0.01, 0.1, designMatrix,y_train, 1,100000,16)"
   ]
  },
  {
   "cell_type": "code",
   "execution_count": null,
   "metadata": {
    "collapsed": true
   },
   "outputs": [],
   "source": []
  },
  {
   "cell_type": "code",
   "execution_count": 6,
   "metadata": {},
   "outputs": [
    {
     "data": {
      "text/plain": [
       "(46, 46)"
      ]
     },
     "execution_count": 6,
     "metadata": {},
     "output_type": "execute_result"
    }
   ],
   "source": [
    "covM = np.cov(X_train.T)\n",
    "covM.shape"
   ]
  },
  {
   "cell_type": "code",
   "execution_count": 1,
   "metadata": {
    "collapsed": true
   },
   "outputs": [],
   "source": [
    "# A = np.identity(2)\n",
    "# A = np.dstack((A,np.identity(2)))\n",
    "# A = np.stack((A,np.identity(2)))\n",
    "# # for _ in range(0,2):\n",
    "# #     A = np.dstack((A,np.identity(2)))"
   ]
  },
  {
   "cell_type": "code",
   "execution_count": 7,
   "metadata": {},
   "outputs": [
    {
     "data": {
      "text/plain": [
       "array([[0, 1, 2],\n",
       "       [2, 1, 0]])"
      ]
     },
     "execution_count": 7,
     "metadata": {},
     "output_type": "execute_result"
    }
   ],
   "source": [
    "x = np.array([[0, 2], [1, 1], [2, 0]]).T\n",
    "x"
   ]
  },
  {
   "cell_type": "code",
   "execution_count": 6,
   "metadata": {},
   "outputs": [
    {
     "data": {
      "text/plain": [
       "array([[ 2.,  0., -2.],\n",
       "       [ 0.,  0.,  0.],\n",
       "       [-2.,  0.,  2.]])"
      ]
     },
     "execution_count": 6,
     "metadata": {},
     "output_type": "execute_result"
    }
   ],
   "source": [
    "np.cov(x)"
   ]
  },
  {
   "cell_type": "code",
   "execution_count": 70,
   "metadata": {},
   "outputs": [
    {
     "data": {
      "image/png": "[encoded data removed]",
      "text/plain": [
       "<matplotlib.figure.Figure at 0x11053a668>"
      ]
     },
     "metadata": {},
     "output_type": "display_data"
    }
   ],
   "source": [
    "# A=[]\n",
    "# I1 = np.eye(2)\n",
    "# for i in range(0,5):\n",
    "#     A.append(I1)\n",
    "# A = np.array(A)\n",
    "# A.shape\n",
    "\n",
    "import pylab as pl\n",
    "Nc = range(1, 30)\n",
    "kmeans = [cluster.KMeans(n_clusters=i) for i in Nc]\n",
    "kmeans\n",
    "score = [kmeans[i].fit(X_train).score(X_train) for i in range(len(kmeans))]\n",
    "score\n",
    "pl.plot(Nc,score)\n",
    "pl.xlabel('Number of Clusters')\n",
    "pl.ylabel('Score')\n",
    "# pl.title('Elbow Curve')\n",
    "pl.show()"
   ]
  },
  {
   "cell_type": "code",
   "execution_count": 67,
   "metadata": {},
   "outputs": [
    {
     "name": "stdout",
     "output_type": "stream",
     "text": [
      "Training error: 0.742650560757\n",
      "Test error (Validation set): 0.76896027352\n",
      "Test error (test set): 0.75803945296\n",
      "Training error: 0.725610911046\n",
      "Test error (Validation set): 0.761893247341\n",
      "Test error (test set): 0.760380511445\n",
      "Training error: 0.700851220738\n",
      "Test error (Validation set): 0.768131250285\n",
      "Test error (test set): 0.725368662974\n",
      "Training error: 0.682019261328\n",
      "Test error (Validation set): 0.752972425512\n",
      "Test error (test set): 0.75445929514\n",
      "Training error: 0.64581388877\n",
      "Test error (Validation set): 0.757162770872\n",
      "Test error (test set): 0.810659566868\n",
      "Training error: 0.596265839625\n",
      "Test error (Validation set): 0.818478359581\n",
      "Test error (test set): 0.900340306961\n",
      "Training error: 0.5917591893\n",
      "Test error (Validation set): 0.87690828221\n",
      "Test error (test set): 0.804340037375\n",
      "Training error: 0.595443920283\n",
      "Test error (Validation set): 0.780046032752\n",
      "Test error (test set): 0.856542848435\n",
      "Training error: 0.594875471127\n",
      "Test error (Validation set): 0.857362466491\n",
      "Test error (test set): 0.792844954683\n"
     ]
    }
   ],
   "source": [
    "import pylab as pl\n",
    "i=0\n",
    "lambdass= [0.001, 0.002,0.004, 0.006, 0.01, 0.05, 0.08, 0.1, 0.2]\n",
    "# lambdass = [0.05, 0.1,0.2,0.4,0.8,1,1.2,1.5,2]\n",
    "LAQ = np.zeros((3,np.array(lambdass).shape[0]))\n",
    "for la in lambdass:\n",
    "    A = test2(la)\n",
    "    LAQ[0][i] = A[0]\n",
    "    LAQ[1][i] = A[1]\n",
    "    LAQ[2][i] = A[2]\n",
    "    i=i+1"
   ]
  },
  {
   "cell_type": "code",
   "execution_count": 68,
   "metadata": {},
   "outputs": [
    {
     "data": {
      "image/png": "[encoded data removed]",
      "text/plain": [
       "<matplotlib.figure.Figure at 0x10d837ac8>"
      ]
     },
     "metadata": {},
     "output_type": "display_data"
    }
   ],
   "source": [
    "pl.plot(lambdass,LAQ[0,:],'r*')\n",
    "pl.plot(lambdass,LAQ[1,:],'bo')\n",
    "pl.plot(lambdass,LAQ[2,:],'g.')\n",
    "pl.xlabel('Learning rate')\n",
    "pl.ylabel('Error (RMS)')\n",
    "plt.legend(('Train error', 'Validation Error','Test error'))\n",
    "pl.show()"
   ]
  },
  {
   "cell_type": "code",
   "execution_count": 24,
   "metadata": {},
   "outputs": [
    {
     "data": {
      "text/plain": [
       "(3, 9)"
      ]
     },
     "execution_count": 24,
     "metadata": {},
     "output_type": "execute_result"
    }
   ],
   "source": [
    "lambdass= [0.05, 0.1, 0.2, 0.4, 0.8, 1, 1.2, 1.5, 2]\n",
    "LAQ = np.zeros((3,np.array(lambdass).shape[0]))\n",
    "LAQ.shape"
   ]
  },
  {
   "cell_type": "code",
   "execution_count": null,
   "metadata": {
    "collapsed": true
   },
   "outputs": [],
   "source": []
  },
  {
   "cell_type": "code",
   "execution_count": null,
   "metadata": {
    "collapsed": true
   },
   "outputs": [],
   "source": []
  },
  {
   "cell_type": "code",
   "execution_count": null,
   "metadata": {
    "collapsed": true
   },
   "outputs": [],
   "source": []
  },
  {
   "cell_type": "code",
   "execution_count": null,
   "metadata": {
    "collapsed": true
   },
   "outputs": [],
   "source": []
  },
  {
   "cell_type": "code",
   "execution_count": 26,
   "metadata": {},
   "outputs": [
    {
     "name": "stdout",
     "output_type": "stream",
     "text": [
      "Training error: [[ 0.54861499]]\n",
      "Test error (Validation set): [[ 1.56211109]]\n",
      "Test error (test set): [[ 1.27836241]]\n"
     ]
    },
    {
     "data": {
      "text/plain": [
       "array([[ 0.54861499]])"
      ]
     },
     "execution_count": 26,
     "metadata": {},
     "output_type": "execute_result"
    }
   ],
   "source": [
    "A = test1(1)\n",
    "A[0]"
   ]
  },
  {
   "cell_type": "code",
   "execution_count": 51,
   "metadata": {},
   "outputs": [],
   "source": [
    "def test1(la):\n",
    "#Hyper-parameter tuning\n",
    "    l2_lamda = la\n",
    "    designMatrix = compute_design_matrix(X_train,k_cluster)\n",
    "    weights_train0 = closed_form_solution(l2_lamda, designMatrix, y_train)\n",
    "    train_error0 = rms_error(weights_train0,designMatrix,y_train,l2_lamda)\n",
    "    print(\"Training error:\",train_error0)\n",
    "    designMatrix2 = compute_design_matrix(X_validate,k_cluster)\n",
    "    train_error2 = rms_error(weights_train0,designMatrix2,y_validate,l2_lamda)\n",
    "    print(\"Test error (Validation set):\",train_error2)\n",
    "    #Test error\n",
    "    designMatrix3 = compute_design_matrix(X_test,k_cluster)\n",
    "    train_error3 = rms_error(weights_train0,designMatrix3,y_test,l2_lamda)\n",
    "    print(\"Test error (test set):\",train_error3)\n",
    "    return train_error0,train_error2,train_error3"
   ]
  },
  {
   "cell_type": "code",
   "execution_count": null,
   "metadata": {
    "collapsed": true
   },
   "outputs": [],
   "source": []
  },
  {
   "cell_type": "code",
   "execution_count": 65,
   "metadata": {},
   "outputs": [],
   "source": [
    "def test2(la):\n",
    "#Hyper-parameter tuning\n",
    "    l2_lamda = 0.9\n",
    "    learning_rate = la\n",
    "\n",
    "    designMatrix = compute_design_matrix(X_train,k_cluster)\n",
    "    weights_train0 = SGD(learning_rate, l2_lamda, designMatrix,y_train, designMatrix.shape[0],5000,k_cluster)\n",
    "    train_error0 = rms_error(weights_train0,designMatrix,y_train,l2_lamda)\n",
    "    print(\"Training error:\",train_error0)\n",
    "\n",
    "    designMatrix2 = compute_design_matrix(X_validate,k_cluster)\n",
    "    train_error2 = rms_error(weights_train0,designMatrix2,y_validate, l2_lamda)\n",
    "    print(\"Test error (Validation set):\",train_error2)\n",
    "\n",
    "    #Test error\n",
    "    designMatrix3 = compute_design_matrix(X_test,k_cluster)\n",
    "    train_error3 = rms_error(weights_train0,designMatrix3,y_test, l2_lamda)\n",
    "    print(\"Test error (test set):\",train_error3)\n",
    "    return train_error0,train_error2,train_error3"
   ]
  },
  {
   "cell_type": "code",
   "execution_count": null,
   "metadata": {
    "collapsed": true
   },
   "outputs": [],
   "source": []
  },
  {
   "cell_type": "code",
   "execution_count": null,
   "metadata": {
    "collapsed": true
   },
   "outputs": [],
   "source": []
  }
 ],
 "metadata": {
  "kernelspec": {
   "display_name": "Python 3",
   "language": "python",
   "name": "python3"
  },
  "language_info": {
   "codemirror_mode": {
    "name": "ipython",
    "version": 3
   },
   "file_extension": ".py",
   "mimetype": "text/x-python",
   "name": "python",
   "nbconvert_exporter": "python",
   "pygments_lexer": "ipython3",
   "version": "3.6.2"
  }
 },
 "nbformat": 4,
 "nbformat_minor": 2
}
