{
 "cells": [
  {
   "cell_type": "code",
   "execution_count": 1,
   "metadata": {
    "collapsed": true
   },
   "outputs": [],
   "source": [
    "import random\n",
    "import numpy as np\n",
    "import pandas as pd\n",
    "from scipy.stats import multivariate_normal\n",
    "import matplotlib.pyplot as plt\n",
    "from sklearn import preprocessing, cluster, model_selection, metrics"
   ]
  },
  {
   "cell_type": "code",
   "execution_count": 2,
   "metadata": {
    "collapsed": true
   },
   "outputs": [],
   "source": [
    "synInputData = pd.read_csv('input.csv',header=None).values\n",
    "synOutputData = pd.read_csv('output.csv',header=None).values\n",
    "letorInputData = pd.read_csv('Querylevelnorm_X.csv',header=None).values\n",
    "letorOutputData = pd.read_csv('Querylevelnorm_t.csv',header=None).values\n",
    "\n",
    "\n",
    "# print(synInputData.shape)\n",
    "# print(synOutputData.shape)\n",
    "# print(letorInputData.shape)\n",
    "# print(letorOutputData.shape)"
   ]
  },
  {
   "cell_type": "code",
   "execution_count": 41,
   "metadata": {
    "collapsed": true
   },
   "outputs": [],
   "source": [
    "X_train, X_test, y_train, y_test = model_selection.train_test_split(synInputData, synOutputData, test_size=0.20, shuffle=False)\n",
    "X_validate, X_test, y_validate, y_test = model_selection.train_test_split(X_test, y_test, test_size=0.50, shuffle=False)"
   ]
  },
  {
   "cell_type": "code",
   "execution_count": 4,
   "metadata": {
    "collapsed": true
   },
   "outputs": [],
   "source": [
    "X_train, X_test, y_train, y_test = model_selection.train_test_split(letorInputData, letorOutputData, test_size=0.20, shuffle=False)\n",
    "X_validate, X_test, y_validate, y_test = model_selection.train_test_split(X_test, y_test, test_size=0.50, shuffle=False)"
   ]
  },
  {
   "cell_type": "code",
   "execution_count": 42,
   "metadata": {
    "collapsed": true
   },
   "outputs": [],
   "source": [
    "def compute_design_matrix(X_train, k_clusters):\n",
    "    \n",
    "    N,D = X_train.shape\n",
    "    kmeans = cluster.KMeans(k_clusters).fit(X_train)\n",
    "    centers = kmeans.cluster_centers_\n",
    "    centers = centers[:,np.newaxis,:]\n",
    "    spreads = []\n",
    "#     covM = np.cov(X_train.T)\n",
    "    covM = np.identity(D)\n",
    "    for _ in range(0,k_clusters): spreads.append(covM)\n",
    "    spreads = np.array(spreads)\n",
    "    X = X_train[np.newaxis,:,:]\n",
    "    \n",
    "    basis_func_outputs = np.exp(np. sum(np.matmul(X - centers, spreads) * (X - centers), axis=2) / (-2) ).T\n",
    "    return np.insert(basis_func_outputs, 0, 1, axis=1)"
   ]
  },
  {
   "cell_type": "code",
   "execution_count": 43,
   "metadata": {
    "collapsed": true
   },
   "outputs": [],
   "source": [
    "def closed_form_solution(l2_lamda, designMatrix, outValues):\n",
    "    weights = np.dot(np.dot(np.linalg.inv(np.dot(designMatrix.T,designMatrix)),designMatrix.T),outValues)\n",
    "    return weights"
   ]
  },
  {
   "cell_type": "code",
   "execution_count": 44,
   "metadata": {
    "collapsed": true
   },
   "outputs": [],
   "source": [
    "def SGD(learningRate, l2_lamda, designMatrix, outValues, miniBatchSize, numEpochs,k_clusters):\n",
    "    N=designMatrix.shape[0]\n",
    "    weights = np.zeros([1, k_clusters+1])\n",
    "    for epoch in range(numEpochs):\n",
    "        for i in range(int(N / miniBatchSize)):\n",
    "            lower_bound = i * miniBatchSize\n",
    "            upper_bound = min((i+1)*miniBatchSize, N)\n",
    "            Phi = designMatrix[lower_bound : upper_bound, :]\n",
    "            t = outValues[lower_bound : upper_bound, :]\n",
    "            E_D = np.matmul((np.matmul(Phi, weights.T)-t).T,Phi )\n",
    "            E = (E_D + l2_lamda * weights) / miniBatchSize\n",
    "            weights = weights - learningRate * E\n",
    "    return weights.flatten()\n",
    "    "
   ]
  },
  {
   "cell_type": "code",
   "execution_count": 45,
   "metadata": {
    "collapsed": true
   },
   "outputs": [],
   "source": [
    "def rms_error(weights, designMatrix, Y, l2_lamda):\n",
    "    y_calc = np.dot(designMatrix,weights)\n",
    "#     print(y_calc.shape)\n",
    "    E_D_W = 0.5*metrics.mean_squared_error(Y,y_calc)*designMatrix.shape[0]\n",
    "    E_W_W = 0.5*np.dot(weights.T,weights)\n",
    "    E_W = E_D_W + l2_lamda*E_W_W\n",
    "    train_error = np.sqrt(2*E_W/designMatrix.shape[0])\n",
    "#     print(train_error.shape)\n",
    "    return train_error"
   ]
  },
  {
   "cell_type": "code",
   "execution_count": null,
   "metadata": {
    "collapsed": true
   },
   "outputs": [],
   "source": []
  },
  {
   "cell_type": "code",
   "execution_count": 20,
   "metadata": {
    "collapsed": true
   },
   "outputs": [],
   "source": [
    "k_cluster = 16"
   ]
  },
  {
   "cell_type": "code",
   "execution_count": 18,
   "metadata": {},
   "outputs": [
    {
     "name": "stdout",
     "output_type": "stream",
     "text": [
      "Training error: [[ 0.54869675]]\n",
      "Test error (Validation set): [[ 1.71304706]]\n",
      "Test error (test set): [[ 5.62787587]]\n"
     ]
    }
   ],
   "source": [
    "#Hyper-parameter tuning\n",
    "l2_lamda = 0.9\n",
    "\n",
    "\n",
    "designMatrix = compute_design_matrix(X_train,k_cluster)\n",
    "weights_train0 = closed_form_solution(l2_lamda, designMatrix, y_train)\n",
    "train_error0 = rms_error(weights_train0,designMatrix,y_train,l2_lamda)\n",
    "print(\"Training error:\",train_error0)\n",
    "\n",
    "designMatrix2 = compute_design_matrix(X_validate,k_cluster)\n",
    "train_error2 = rms_error(weights_train0,designMatrix2,y_validate,l2_lamda)\n",
    "print(\"Test error (Validation set):\",train_error2)\n",
    "\n",
    "\n",
    "#Test error\n",
    "designMatrix3 = compute_design_matrix(X_test,k_cluster)\n",
    "train_error3 = rms_error(weights_train0,designMatrix3,y_test,l2_lamda)\n",
    "print(\"Test error (test set):\",train_error3)"
   ]
  },
  {
   "cell_type": "code",
   "execution_count": 19,
   "metadata": {},
   "outputs": [
    {
     "name": "stdout",
     "output_type": "stream",
     "text": [
      "Training error: 0.557899017515\n",
      "Test error (Validation set): 0.556575941747\n",
      "Test error (test set): 0.641825907726\n"
     ]
    }
   ],
   "source": [
    "#Hyper-parameter tuning\n",
    "l2_lamda = 0.9\n",
    "learning_rate = 0.001\n",
    "\n",
    "designMatrix = compute_design_matrix(X_train,k_cluster)\n",
    "weights_train0 = SGD(learning_rate, l2_lamda, designMatrix,y_train, designMatrix.shape[0],5000,k_cluster)\n",
    "train_error0 = rms_error(weights_train0,designMatrix,y_train,l2_lamda)\n",
    "print(\"Training error:\",train_error0)\n",
    "\n",
    "designMatrix2 = compute_design_matrix(X_validate,k_cluster)\n",
    "train_error2 = rms_error(weights_train0,designMatrix2,y_validate, l2_lamda)\n",
    "print(\"Test error (Validation set):\",train_error2)\n",
    "\n",
    "#Test error\n",
    "designMatrix3 = compute_design_matrix(X_test,k_cluster)\n",
    "train_error3 = rms_error(weights_train0,designMatrix3,y_test, l2_lamda)\n",
    "print(\"Test error (test set):\",train_error3)"
   ]
  },
  {
   "cell_type": "code",
   "execution_count": null,
   "metadata": {
    "collapsed": true
   },
   "outputs": [],
   "source": []
  },
  {
   "cell_type": "code",
   "execution_count": null,
   "metadata": {
    "collapsed": true
   },
   "outputs": [],
   "source": []
  },
  {
   "cell_type": "code",
   "execution_count": null,
   "metadata": {
    "collapsed": true
   },
   "outputs": [],
   "source": [
    "#Test error\n",
    "designMatrix = compute_design_matrix(X_validate,16)\n",
    "# weights_train2 = closed_form_solution(0.1, designMatrix, y_test)\n",
    "# weights_train3 = SGD(0.01, 0.1, designMatrix,y_test, designMatrix.shape[0],100,16)\n",
    "train_error2 = rms_error(weights_train0,designMatrix,y_validate)\n",
    "print(train_error2)\n",
    "# train_error3 = rms_error(weights_train3,designMatrix,y_test)\n",
    "# print(train_error3)"
   ]
  },
  {
   "cell_type": "code",
   "execution_count": null,
   "metadata": {
    "collapsed": true
   },
   "outputs": [],
   "source": [
    "train_error0 = rms_error(weights_train0,designMatrix,y_train)\n",
    "print(train_error0)\n",
    "# train_error1 = rms_error(weights_train1,designMatrix,y_train)\n",
    "# print(train_error1)"
   ]
  },
  {
   "cell_type": "code",
   "execution_count": null,
   "metadata": {
    "collapsed": true
   },
   "outputs": [],
   "source": [
    "designMatrix = compute_design_matrix(X_train,16)\n",
    "\n",
    "weights_train0 = closed_form_solution(0.5, designMatrix, y_train)\n",
    "\n",
    "# weights_train1 = SGD(0.01, 0.1, designMatrix,y_train, designMatrix.shape[0],100000,16)\n",
    "# weights_train1 = SGD(0.01, 0.1, designMatrix,y_train, 1,100000,16)"
   ]
  },
  {
   "cell_type": "code",
   "execution_count": null,
   "metadata": {
    "collapsed": true
   },
   "outputs": [],
   "source": []
  },
  {
   "cell_type": "code",
   "execution_count": 6,
   "metadata": {},
   "outputs": [
    {
     "data": {
      "text/plain": [
       "(46, 46)"
      ]
     },
     "execution_count": 6,
     "metadata": {},
     "output_type": "execute_result"
    }
   ],
   "source": [
    "covM = np.cov(X_train.T)\n",
    "covM.shape"
   ]
  },
  {
   "cell_type": "code",
   "execution_count": 1,
   "metadata": {
    "collapsed": true
   },
   "outputs": [],
   "source": [
    "# A = np.identity(2)\n",
    "# A = np.dstack((A,np.identity(2)))\n",
    "# A = np.stack((A,np.identity(2)))\n",
    "# # for _ in range(0,2):\n",
    "# #     A = np.dstack((A,np.identity(2)))"
   ]
  },
  {
   "cell_type": "code",
   "execution_count": 7,
   "metadata": {},
   "outputs": [
    {
     "data": {
      "text/plain": [
       "array([[0, 1, 2],\n",
       "       [2, 1, 0]])"
      ]
     },
     "execution_count": 7,
     "metadata": {},
     "output_type": "execute_result"
    }
   ],
   "source": [
    "x = np.array([[0, 2], [1, 1], [2, 0]]).T\n",
    "x"
   ]
  },
  {
   "cell_type": "code",
   "execution_count": 6,
   "metadata": {},
   "outputs": [
    {
     "data": {
      "text/plain": [
       "array([[ 2.,  0., -2.],\n",
       "       [ 0.,  0.,  0.],\n",
       "       [-2.,  0.,  2.]])"
      ]
     },
     "execution_count": 6,
     "metadata": {},
     "output_type": "execute_result"
    }
   ],
   "source": [
    "np.cov(x)"
   ]
  },
  {
   "cell_type": "code",
   "execution_count": 23,
   "metadata": {},
   "outputs": [
    {
     "data": {
      "image/png": "[encoded data removed]",
      "text/plain": [
       "<matplotlib.figure.Figure at 0x10dde69e8>"
      ]
     },
     "metadata": {},
     "output_type": "display_data"
    }
   ],
   "source": [
    "# A=[]\n",
    "# I1 = np.eye(2)\n",
    "# for i in range(0,5):\n",
    "#     A.append(I1)\n",
    "# A = np.array(A)\n",
    "# A.shape\n",
    "\n",
    "import pylab as pl\n",
    "Nc = range(1, 30)\n",
    "kmeans = [cluster.KMeans(n_clusters=i) for i in Nc]\n",
    "kmeans\n",
    "score = [kmeans[i].fit(X_train).score(X_train) for i in range(len(kmeans))]\n",
    "score\n",
    "pl.plot(Nc,score)\n",
    "pl.xlabel('Number of Clusters')\n",
    "pl.ylabel('Score')\n",
    "# pl.title('Elbow Curve')\n",
    "pl.show()"
   ]
  },
  {
   "cell_type": "code",
   "execution_count": 61,
   "metadata": {},
   "outputs": [
    {
     "name": "stdout",
     "output_type": "stream",
     "text": [
      "Training error: 0.743013128526\n",
      "Test error (Validation set): 0.767503222277\n",
      "Test error (test set): 0.763282687759\n",
      "Training error: 0.72848569959\n",
      "Test error (Validation set): 0.759425153392\n",
      "Test error (test set): 0.759393860031\n",
      "Training error: 0.69870091508\n",
      "Test error (Validation set): 0.761615032136\n",
      "Test error (test set): 0.740319840933\n",
      "Training error: 0.677289345633\n",
      "Test error (Validation set): 0.772621946334\n",
      "Test error (test set): 0.767712005821\n",
      "Training error: 0.649062244739\n",
      "Test error (Validation set): 0.749201445124\n",
      "Test error (test set): 0.78046591554\n",
      "Training error: 0.594206294368\n",
      "Test error (Validation set): 0.789071298798\n",
      "Test error (test set): 0.861874643934\n",
      "Training error: 0.594278553003\n",
      "Test error (Validation set): 0.951030367832\n",
      "Test error (test set): 0.861164805574\n",
      "Training error: 0.593124852792\n",
      "Test error (Validation set): 0.777586779077\n",
      "Test error (test set): 0.861835002061\n",
      "Training error: 0.595354180116\n",
      "Test error (Validation set): 0.834164276106\n",
      "Test error (test set): 0.856431238468\n"
     ]
    },
    {
     "name": "stderr",
     "output_type": "stream",
     "text": [
      "/Users/avinashk94/anaconda3/lib/python3.6/site-packages/ipykernel_launcher.py:12: RuntimeWarning: invalid value encountered in subtract\n",
      "  if sys.path[0] == '':\n"
     ]
    },
    {
     "ename": "ValueError",
     "evalue": "Input contains NaN, infinity or a value too large for dtype('float64').",
     "output_type": "error",
     "traceback": [
      "\u001b[0;31m---------------------------------------------------------------------------\u001b[0m",
      "\u001b[0;31mValueError\u001b[0m                                Traceback (most recent call last)",
      "\u001b[0;32m<ipython-input-61-4fb021abbd92>\u001b[0m in \u001b[0;36m<module>\u001b[0;34m()\u001b[0m\n\u001b[1;32m      5\u001b[0m \u001b[0mLAQ\u001b[0m \u001b[0;34m=\u001b[0m \u001b[0mnp\u001b[0m\u001b[0;34m.\u001b[0m\u001b[0mzeros\u001b[0m\u001b[0;34m(\u001b[0m\u001b[0;34m(\u001b[0m\u001b[0;36m3\u001b[0m\u001b[0;34m,\u001b[0m\u001b[0mnp\u001b[0m\u001b[0;34m.\u001b[0m\u001b[0marray\u001b[0m\u001b[0;34m(\u001b[0m\u001b[0mlambdass\u001b[0m\u001b[0;34m)\u001b[0m\u001b[0;34m.\u001b[0m\u001b[0mshape\u001b[0m\u001b[0;34m[\u001b[0m\u001b[0;36m0\u001b[0m\u001b[0;34m]\u001b[0m\u001b[0;34m)\u001b[0m\u001b[0;34m)\u001b[0m\u001b[0;34m\u001b[0m\u001b[0m\n\u001b[1;32m      6\u001b[0m \u001b[0;32mfor\u001b[0m \u001b[0mla\u001b[0m \u001b[0;32min\u001b[0m \u001b[0mlambdass\u001b[0m\u001b[0;34m:\u001b[0m\u001b[0;34m\u001b[0m\u001b[0m\n\u001b[0;32m----> 7\u001b[0;31m     \u001b[0mA\u001b[0m \u001b[0;34m=\u001b[0m \u001b[0mtest2\u001b[0m\u001b[0;34m(\u001b[0m\u001b[0mla\u001b[0m\u001b[0;34m)\u001b[0m\u001b[0;34m\u001b[0m\u001b[0m\n\u001b[0m\u001b[1;32m      8\u001b[0m     \u001b[0mLAQ\u001b[0m\u001b[0;34m[\u001b[0m\u001b[0;36m0\u001b[0m\u001b[0;34m]\u001b[0m\u001b[0;34m[\u001b[0m\u001b[0mi\u001b[0m\u001b[0;34m]\u001b[0m \u001b[0;34m=\u001b[0m \u001b[0mA\u001b[0m\u001b[0;34m[\u001b[0m\u001b[0;36m0\u001b[0m\u001b[0;34m]\u001b[0m\u001b[0;34m\u001b[0m\u001b[0m\n\u001b[1;32m      9\u001b[0m     \u001b[0mLAQ\u001b[0m\u001b[0;34m[\u001b[0m\u001b[0;36m1\u001b[0m\u001b[0;34m]\u001b[0m\u001b[0;34m[\u001b[0m\u001b[0mi\u001b[0m\u001b[0;34m]\u001b[0m \u001b[0;34m=\u001b[0m \u001b[0mA\u001b[0m\u001b[0;34m[\u001b[0m\u001b[0;36m1\u001b[0m\u001b[0;34m]\u001b[0m\u001b[0;34m\u001b[0m\u001b[0m\n",
      "\u001b[0;32m<ipython-input-59-afd0f8a31e4c>\u001b[0m in \u001b[0;36mtest2\u001b[0;34m(la)\u001b[0m\n\u001b[1;32m      6\u001b[0m     \u001b[0mdesignMatrix\u001b[0m \u001b[0;34m=\u001b[0m \u001b[0mcompute_design_matrix\u001b[0m\u001b[0;34m(\u001b[0m\u001b[0mX_train\u001b[0m\u001b[0;34m,\u001b[0m\u001b[0mk_cluster\u001b[0m\u001b[0;34m)\u001b[0m\u001b[0;34m\u001b[0m\u001b[0m\n\u001b[1;32m      7\u001b[0m     \u001b[0mweights_train0\u001b[0m \u001b[0;34m=\u001b[0m \u001b[0mSGD\u001b[0m\u001b[0;34m(\u001b[0m\u001b[0mlearning_rate\u001b[0m\u001b[0;34m,\u001b[0m \u001b[0ml2_lamda\u001b[0m\u001b[0;34m,\u001b[0m \u001b[0mdesignMatrix\u001b[0m\u001b[0;34m,\u001b[0m\u001b[0my_train\u001b[0m\u001b[0;34m,\u001b[0m \u001b[0mdesignMatrix\u001b[0m\u001b[0;34m.\u001b[0m\u001b[0mshape\u001b[0m\u001b[0;34m[\u001b[0m\u001b[0;36m0\u001b[0m\u001b[0;34m]\u001b[0m\u001b[0;34m,\u001b[0m\u001b[0;36m5000\u001b[0m\u001b[0;34m,\u001b[0m\u001b[0mk_cluster\u001b[0m\u001b[0;34m)\u001b[0m\u001b[0;34m\u001b[0m\u001b[0m\n\u001b[0;32m----> 8\u001b[0;31m     \u001b[0mtrain_error0\u001b[0m \u001b[0;34m=\u001b[0m \u001b[0mrms_error\u001b[0m\u001b[0;34m(\u001b[0m\u001b[0mweights_train0\u001b[0m\u001b[0;34m,\u001b[0m\u001b[0mdesignMatrix\u001b[0m\u001b[0;34m,\u001b[0m\u001b[0my_train\u001b[0m\u001b[0;34m,\u001b[0m\u001b[0ml2_lamda\u001b[0m\u001b[0;34m)\u001b[0m\u001b[0;34m\u001b[0m\u001b[0m\n\u001b[0m\u001b[1;32m      9\u001b[0m     \u001b[0mprint\u001b[0m\u001b[0;34m(\u001b[0m\u001b[0;34m\"Training error:\"\u001b[0m\u001b[0;34m,\u001b[0m\u001b[0mtrain_error0\u001b[0m\u001b[0;34m)\u001b[0m\u001b[0;34m\u001b[0m\u001b[0m\n\u001b[1;32m     10\u001b[0m \u001b[0;34m\u001b[0m\u001b[0m\n",
      "\u001b[0;32m<ipython-input-45-6114067bb44f>\u001b[0m in \u001b[0;36mrms_error\u001b[0;34m(weights, designMatrix, Y, l2_lamda)\u001b[0m\n\u001b[1;32m      2\u001b[0m     \u001b[0my_calc\u001b[0m \u001b[0;34m=\u001b[0m \u001b[0mnp\u001b[0m\u001b[0;34m.\u001b[0m\u001b[0mdot\u001b[0m\u001b[0;34m(\u001b[0m\u001b[0mdesignMatrix\u001b[0m\u001b[0;34m,\u001b[0m\u001b[0mweights\u001b[0m\u001b[0;34m)\u001b[0m\u001b[0;34m\u001b[0m\u001b[0m\n\u001b[1;32m      3\u001b[0m \u001b[0;31m#     print(y_calc.shape)\u001b[0m\u001b[0;34m\u001b[0m\u001b[0;34m\u001b[0m\u001b[0m\n\u001b[0;32m----> 4\u001b[0;31m     \u001b[0mE_D_W\u001b[0m \u001b[0;34m=\u001b[0m \u001b[0;36m0.5\u001b[0m\u001b[0;34m*\u001b[0m\u001b[0mmetrics\u001b[0m\u001b[0;34m.\u001b[0m\u001b[0mmean_squared_error\u001b[0m\u001b[0;34m(\u001b[0m\u001b[0mY\u001b[0m\u001b[0;34m,\u001b[0m\u001b[0my_calc\u001b[0m\u001b[0;34m)\u001b[0m\u001b[0;34m*\u001b[0m\u001b[0mdesignMatrix\u001b[0m\u001b[0;34m.\u001b[0m\u001b[0mshape\u001b[0m\u001b[0;34m[\u001b[0m\u001b[0;36m0\u001b[0m\u001b[0;34m]\u001b[0m\u001b[0;34m\u001b[0m\u001b[0m\n\u001b[0m\u001b[1;32m      5\u001b[0m     \u001b[0mE_W_W\u001b[0m \u001b[0;34m=\u001b[0m \u001b[0;36m0.5\u001b[0m\u001b[0;34m*\u001b[0m\u001b[0mnp\u001b[0m\u001b[0;34m.\u001b[0m\u001b[0mdot\u001b[0m\u001b[0;34m(\u001b[0m\u001b[0mweights\u001b[0m\u001b[0;34m.\u001b[0m\u001b[0mT\u001b[0m\u001b[0;34m,\u001b[0m\u001b[0mweights\u001b[0m\u001b[0;34m)\u001b[0m\u001b[0;34m\u001b[0m\u001b[0m\n\u001b[1;32m      6\u001b[0m     \u001b[0mE_W\u001b[0m \u001b[0;34m=\u001b[0m \u001b[0mE_D_W\u001b[0m \u001b[0;34m+\u001b[0m \u001b[0ml2_lamda\u001b[0m\u001b[0;34m*\u001b[0m\u001b[0mE_W_W\u001b[0m\u001b[0;34m\u001b[0m\u001b[0m\n",
      "\u001b[0;32m~/anaconda3/lib/python3.6/site-packages/sklearn/metrics/regression.py\u001b[0m in \u001b[0;36mmean_squared_error\u001b[0;34m(y_true, y_pred, sample_weight, multioutput)\u001b[0m\n\u001b[1;32m    236\u001b[0m     \"\"\"\n\u001b[1;32m    237\u001b[0m     y_type, y_true, y_pred, multioutput = _check_reg_targets(\n\u001b[0;32m--> 238\u001b[0;31m         y_true, y_pred, multioutput)\n\u001b[0m\u001b[1;32m    239\u001b[0m     output_errors = np.average((y_true - y_pred) ** 2, axis=0,\n\u001b[1;32m    240\u001b[0m                                weights=sample_weight)\n",
      "\u001b[0;32m~/anaconda3/lib/python3.6/site-packages/sklearn/metrics/regression.py\u001b[0m in \u001b[0;36m_check_reg_targets\u001b[0;34m(y_true, y_pred, multioutput)\u001b[0m\n\u001b[1;32m     75\u001b[0m     \u001b[0mcheck_consistent_length\u001b[0m\u001b[0;34m(\u001b[0m\u001b[0my_true\u001b[0m\u001b[0;34m,\u001b[0m \u001b[0my_pred\u001b[0m\u001b[0;34m)\u001b[0m\u001b[0;34m\u001b[0m\u001b[0m\n\u001b[1;32m     76\u001b[0m     \u001b[0my_true\u001b[0m \u001b[0;34m=\u001b[0m \u001b[0mcheck_array\u001b[0m\u001b[0;34m(\u001b[0m\u001b[0my_true\u001b[0m\u001b[0;34m,\u001b[0m \u001b[0mensure_2d\u001b[0m\u001b[0;34m=\u001b[0m\u001b[0;32mFalse\u001b[0m\u001b[0;34m)\u001b[0m\u001b[0;34m\u001b[0m\u001b[0m\n\u001b[0;32m---> 77\u001b[0;31m     \u001b[0my_pred\u001b[0m \u001b[0;34m=\u001b[0m \u001b[0mcheck_array\u001b[0m\u001b[0;34m(\u001b[0m\u001b[0my_pred\u001b[0m\u001b[0;34m,\u001b[0m \u001b[0mensure_2d\u001b[0m\u001b[0;34m=\u001b[0m\u001b[0;32mFalse\u001b[0m\u001b[0;34m)\u001b[0m\u001b[0;34m\u001b[0m\u001b[0m\n\u001b[0m\u001b[1;32m     78\u001b[0m \u001b[0;34m\u001b[0m\u001b[0m\n\u001b[1;32m     79\u001b[0m     \u001b[0;32mif\u001b[0m \u001b[0my_true\u001b[0m\u001b[0;34m.\u001b[0m\u001b[0mndim\u001b[0m \u001b[0;34m==\u001b[0m \u001b[0;36m1\u001b[0m\u001b[0;34m:\u001b[0m\u001b[0;34m\u001b[0m\u001b[0m\n",
      "\u001b[0;32m~/anaconda3/lib/python3.6/site-packages/sklearn/utils/validation.py\u001b[0m in \u001b[0;36mcheck_array\u001b[0;34m(array, accept_sparse, dtype, order, copy, force_all_finite, ensure_2d, allow_nd, ensure_min_samples, ensure_min_features, warn_on_dtype, estimator)\u001b[0m\n\u001b[1;32m    420\u001b[0m                              % (array.ndim, estimator_name))\n\u001b[1;32m    421\u001b[0m         \u001b[0;32mif\u001b[0m \u001b[0mforce_all_finite\u001b[0m\u001b[0;34m:\u001b[0m\u001b[0;34m\u001b[0m\u001b[0m\n\u001b[0;32m--> 422\u001b[0;31m             \u001b[0m_assert_all_finite\u001b[0m\u001b[0;34m(\u001b[0m\u001b[0marray\u001b[0m\u001b[0;34m)\u001b[0m\u001b[0;34m\u001b[0m\u001b[0m\n\u001b[0m\u001b[1;32m    423\u001b[0m \u001b[0;34m\u001b[0m\u001b[0m\n\u001b[1;32m    424\u001b[0m     \u001b[0mshape_repr\u001b[0m \u001b[0;34m=\u001b[0m \u001b[0m_shape_repr\u001b[0m\u001b[0;34m(\u001b[0m\u001b[0marray\u001b[0m\u001b[0;34m.\u001b[0m\u001b[0mshape\u001b[0m\u001b[0;34m)\u001b[0m\u001b[0;34m\u001b[0m\u001b[0m\n",
      "\u001b[0;32m~/anaconda3/lib/python3.6/site-packages/sklearn/utils/validation.py\u001b[0m in \u001b[0;36m_assert_all_finite\u001b[0;34m(X)\u001b[0m\n\u001b[1;32m     41\u001b[0m             and not np.isfinite(X).all()):\n\u001b[1;32m     42\u001b[0m         raise ValueError(\"Input contains NaN, infinity\"\n\u001b[0;32m---> 43\u001b[0;31m                          \" or a value too large for %r.\" % X.dtype)\n\u001b[0m\u001b[1;32m     44\u001b[0m \u001b[0;34m\u001b[0m\u001b[0m\n\u001b[1;32m     45\u001b[0m \u001b[0;34m\u001b[0m\u001b[0m\n",
      "\u001b[0;31mValueError\u001b[0m: Input contains NaN, infinity or a value too large for dtype('float64')."
     ]
    }
   ],
   "source": [
    "import pylab as pl\n",
    "i=0\n",
    "lambdass= [0.001, 0.002,0.004, 0.006, 0.01, 0.05, 0.08, 0.1, 0.2, 0.5,0.7]\n",
    "# lambdass = [0.05, 0.1,0.2,0.4,0.8,1,1.2,1.5,2]\n",
    "LAQ = np.zeros((3,np.array(lambdass).shape[0]))\n",
    "for la in lambdass:\n",
    "    A = test2(la)\n",
    "    LAQ[0][i] = A[0]\n",
    "    LAQ[1][i] = A[1]\n",
    "    LAQ[2][i] = A[2]\n",
    "    i=i+1"
   ]
  },
  {
   "cell_type": "code",
   "execution_count": null,
   "metadata": {},
   "outputs": [],
   "source": [
    "pl.plot(lambdass,LAQ[0,:],'r*')\n",
    "pl.plot(lambdass,LAQ[1,:],'bo')\n",
    "pl.plot(lambdass,LAQ[2,:],'g.')\n",
    "pl.xlabel('Learning rate')\n",
    "pl.ylabel('Error (RMS)')\n",
    "plt.legend(('Train error', 'Validation Error','Test error'))\n",
    "pl.show()"
   ]
  },
  {
   "cell_type": "code",
   "execution_count": 24,
   "metadata": {},
   "outputs": [
    {
     "data": {
      "text/plain": [
       "(3, 9)"
      ]
     },
     "execution_count": 24,
     "metadata": {},
     "output_type": "execute_result"
    }
   ],
   "source": [
    "lambdass= [0.05, 0.1, 0.2, 0.4, 0.8, 1, 1.2, 1.5, 2]\n",
    "LAQ = np.zeros((3,np.array(lambdass).shape[0]))\n",
    "LAQ.shape"
   ]
  },
  {
   "cell_type": "code",
   "execution_count": null,
   "metadata": {
    "collapsed": true
   },
   "outputs": [],
   "source": []
  },
  {
   "cell_type": "code",
   "execution_count": null,
   "metadata": {
    "collapsed": true
   },
   "outputs": [],
   "source": []
  },
  {
   "cell_type": "code",
   "execution_count": null,
   "metadata": {
    "collapsed": true
   },
   "outputs": [],
   "source": []
  },
  {
   "cell_type": "code",
   "execution_count": null,
   "metadata": {
    "collapsed": true
   },
   "outputs": [],
   "source": []
  },
  {
   "cell_type": "code",
   "execution_count": 26,
   "metadata": {},
   "outputs": [
    {
     "name": "stdout",
     "output_type": "stream",
     "text": [
      "Training error: [[ 0.54861499]]\n",
      "Test error (Validation set): [[ 1.56211109]]\n",
      "Test error (test set): [[ 1.27836241]]\n"
     ]
    },
    {
     "data": {
      "text/plain": [
       "array([[ 0.54861499]])"
      ]
     },
     "execution_count": 26,
     "metadata": {},
     "output_type": "execute_result"
    }
   ],
   "source": [
    "A = test1(1)\n",
    "A[0]"
   ]
  },
  {
   "cell_type": "code",
   "execution_count": 51,
   "metadata": {},
   "outputs": [],
   "source": [
    "def test1(la):\n",
    "#Hyper-parameter tuning\n",
    "    l2_lamda = la\n",
    "    designMatrix = compute_design_matrix(X_train,k_cluster)\n",
    "    weights_train0 = closed_form_solution(l2_lamda, designMatrix, y_train)\n",
    "    train_error0 = rms_error(weights_train0,designMatrix,y_train,l2_lamda)\n",
    "    print(\"Training error:\",train_error0)\n",
    "    designMatrix2 = compute_design_matrix(X_validate,k_cluster)\n",
    "    train_error2 = rms_error(weights_train0,designMatrix2,y_validate,l2_lamda)\n",
    "    print(\"Test error (Validation set):\",train_error2)\n",
    "    #Test error\n",
    "    designMatrix3 = compute_design_matrix(X_test,k_cluster)\n",
    "    train_error3 = rms_error(weights_train0,designMatrix3,y_test,l2_lamda)\n",
    "    print(\"Test error (test set):\",train_error3)\n",
    "    return train_error0,train_error2,train_error3"
   ]
  },
  {
   "cell_type": "code",
   "execution_count": null,
   "metadata": {
    "collapsed": true
   },
   "outputs": [],
   "source": []
  },
  {
   "cell_type": "code",
   "execution_count": 59,
   "metadata": {},
   "outputs": [],
   "source": [
    "def test2(la):\n",
    "#Hyper-parameter tuning\n",
    "    l2_lamda = 1.2\n",
    "    learning_rate = la\n",
    "\n",
    "    designMatrix = compute_design_matrix(X_train,k_cluster)\n",
    "    weights_train0 = SGD(learning_rate, l2_lamda, designMatrix,y_train, designMatrix.shape[0],5000,k_cluster)\n",
    "    train_error0 = rms_error(weights_train0,designMatrix,y_train,l2_lamda)\n",
    "    print(\"Training error:\",train_error0)\n",
    "\n",
    "    designMatrix2 = compute_design_matrix(X_validate,k_cluster)\n",
    "    train_error2 = rms_error(weights_train0,designMatrix2,y_validate, l2_lamda)\n",
    "    print(\"Test error (Validation set):\",train_error2)\n",
    "\n",
    "    #Test error\n",
    "    designMatrix3 = compute_design_matrix(X_test,k_cluster)\n",
    "    train_error3 = rms_error(weights_train0,designMatrix3,y_test, l2_lamda)\n",
    "    print(\"Test error (test set):\",train_error3)\n",
    "    return train_error0,train_error2,train_error3"
   ]
  },
  {
   "cell_type": "code",
   "execution_count": null,
   "metadata": {
    "collapsed": true
   },
   "outputs": [],
   "source": []
  },
  {
   "cell_type": "code",
   "execution_count": null,
   "metadata": {
    "collapsed": true
   },
   "outputs": [],
   "source": []
  }
 ],
 "metadata": {
  "kernelspec": {
   "display_name": "Python 3",
   "language": "python",
   "name": "python3"
  },
  "language_info": {
   "codemirror_mode": {
    "name": "ipython",
    "version": 3
   },
   "file_extension": ".py",
   "mimetype": "text/x-python",
   "name": "python",
   "nbconvert_exporter": "python",
   "pygments_lexer": "ipython3",
   "version": "3.6.2"
  }
 },
 "nbformat": 4,
 "nbformat_minor": 2
}
